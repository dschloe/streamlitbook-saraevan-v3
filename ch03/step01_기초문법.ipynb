{
 "cells": [
  {
   "cell_type": "markdown",
   "id": "e2f8e05b-72e2-4fc7-a809-e47ca67f23c8",
   "metadata": {
    "id": "e2f8e05b-72e2-4fc7-a809-e47ca67f23c8"
   },
   "source": [
    "## 파이썬 기초문법"
   ]
  },
  {
   "cell_type": "code",
   "execution_count": null,
   "id": "20da6026-eb0f-450b-adea-995ca0c94630",
   "metadata": {
    "id": "20da6026-eb0f-450b-adea-995ca0c94630",
    "outputId": "cbdd004f-1b21-49fd-c034-1c7c6a13bb3c",
    "tags": []
   },
   "outputs": [
    {
     "name": "stdout",
     "output_type": "stream",
     "text": [
      "Hello, Streamlit!\n"
     ]
    }
   ],
   "source": [
    "print(\"Hello, Streamlit!\")"
   ]
  },
  {
   "cell_type": "code",
   "execution_count": null,
   "id": "bad22303-d45b-46f8-a9c7-6493410d26be",
   "metadata": {
    "id": "bad22303-d45b-46f8-a9c7-6493410d26be",
    "outputId": "3877bd0c-dd98-44e3-b908-b558e75645cf",
    "tags": []
   },
   "outputs": [
    {
     "name": "stdout",
     "output_type": "stream",
     "text": [
      "Hello, Streamlit!\n"
     ]
    }
   ],
   "source": [
    "# 한 줄 주석 처리\n",
    "\"\"\"\n",
    "여러 줄 주석 예제 동일한 따옴표(큰따옴표 혹은 작은 따옴표) \n",
    "세 개와 세 개 사이에는어떠한 내용, \n",
    "몇 줄이 들어가더라도 모두 주석으로 처리됩니다.\n",
    "\"\"\"\n",
    "print(\"Hello, Streamlit!\")"
   ]
  },
  {
   "cell_type": "markdown",
   "id": "dfe50ca5-1b5f-4c77-ab04-d8a802305791",
   "metadata": {
    "id": "dfe50ca5-1b5f-4c77-ab04-d8a802305791"
   },
   "source": [
    "## Primitive 데이터 타입\n",
    "- 크게 4가지가 존재함\n",
    "    + Integer, Float, String, Boolean"
   ]
  },
  {
   "cell_type": "markdown",
   "id": "fea270eb-a41e-4b2e-9b97-9e06e81ea267",
   "metadata": {
    "id": "fea270eb-a41e-4b2e-9b97-9e06e81ea267"
   },
   "source": [
    "여러분의 나이를 입력하고 출력하는 코드를 작성합니다. "
   ]
  },
  {
   "cell_type": "code",
   "execution_count": null,
   "id": "94289c1b-da44-42b1-81ee-8af93ef4a15f",
   "metadata": {
    "id": "94289c1b-da44-42b1-81ee-8af93ef4a15f",
    "outputId": "b13bfbc4-ac3e-49a5-dcce-b33c54d635cd",
    "tags": []
   },
   "outputs": [
    {
     "name": "stdout",
     "output_type": "stream",
     "text": [
      "30\n",
      "<class 'int'>\n"
     ]
    }
   ],
   "source": [
    "num_int = 30\n",
    "print(num_int)\n",
    "print(type(num_int))"
   ]
  },
  {
   "cell_type": "markdown",
   "id": "71ae9214-824a-4d51-8a99-6aee2436a7d5",
   "metadata": {
    "id": "71ae9214-824a-4d51-8a99-6aee2436a7d5"
   },
   "source": [
    "이번에는 num_int가 실제로 int형인지 확인한다. "
   ]
  },
  {
   "cell_type": "code",
   "execution_count": null,
   "id": "481b4f87-90ca-4215-93ea-9c2caa1e58eb",
   "metadata": {
    "id": "481b4f87-90ca-4215-93ea-9c2caa1e58eb",
    "outputId": "4f8b995e-f17c-4d3e-d925-eb086bd77729",
    "tags": []
   },
   "outputs": [
    {
     "name": "stdout",
     "output_type": "stream",
     "text": [
      "<class 'int'>\n"
     ]
    }
   ],
   "source": [
    "print(type(num_int))"
   ]
  },
  {
   "cell_type": "markdown",
   "id": "be51d790-763f-4286-9848-3fad765c9da3",
   "metadata": {
    "id": "be51d790-763f-4286-9848-3fad765c9da3"
   },
   "source": [
    "이번에는 본인의 키를 입력하고 출력하는 코드를 작성"
   ]
  },
  {
   "cell_type": "code",
   "execution_count": null,
   "id": "c6095dbc-83f4-4b8d-80c7-ef20f8d44245",
   "metadata": {
    "colab": {
     "base_uri": "https://localhost:8080/"
    },
    "executionInfo": {
     "elapsed": 11,
     "status": "ok",
     "timestamp": 1683791059885,
     "user": {
      "displayName": "정사라",
      "userId": "14662317940111957326"
     },
     "user_tz": -540
    },
    "id": "c6095dbc-83f4-4b8d-80c7-ef20f8d44245",
    "outputId": "4779c0c8-0255-4f01-f1da-cbf24c5ce1f4",
    "tags": []
   },
   "outputs": [
    {
     "name": "stdout",
     "output_type": "stream",
     "text": [
      "163.2\n",
      "<class 'float'>\n"
     ]
    }
   ],
   "source": [
    "my_height = 163.2\n",
    "print(my_height)\n",
    "print(type(my_height))"
   ]
  },
  {
   "cell_type": "code",
   "execution_count": null,
   "id": "ca0cf457-ca9d-4af9-8f2a-cb851d6376d4",
   "metadata": {
    "id": "ca0cf457-ca9d-4af9-8f2a-cb851d6376d4",
    "outputId": "4e5f03e9-610d-4b2f-b774-c4a00deda84d",
    "tags": []
   },
   "outputs": [
    {
     "name": "stdout",
     "output_type": "stream",
     "text": [
      "<class 'float'>\n"
     ]
    }
   ],
   "source": [
    "print(type(my_height))"
   ]
  },
  {
   "cell_type": "markdown",
   "id": "80694232-3b61-493f-9372-70b3a41aeff3",
   "metadata": {
    "id": "80694232-3b61-493f-9372-70b3a41aeff3"
   },
   "source": [
    "- 임의의 글자를 입력하고 저장한다."
   ]
  },
  {
   "cell_type": "code",
   "execution_count": null,
   "id": "88b8201a-bddf-4e6a-b302-962346762a39",
   "metadata": {
    "colab": {
     "base_uri": "https://localhost:8080/"
    },
    "executionInfo": {
     "elapsed": 7,
     "status": "ok",
     "timestamp": 1683791135982,
     "user": {
      "displayName": "정사라",
      "userId": "14662317940111957326"
     },
     "user_tz": -540
    },
    "id": "88b8201a-bddf-4e6a-b302-962346762a39",
    "outputId": "d1a6d0f2-7931-414a-8355-82273a77b098"
   },
   "outputs": [
    {
     "name": "stdout",
     "output_type": "stream",
     "text": [
      "sarah\n",
      "<class 'str'>\n"
     ]
    }
   ],
   "source": [
    "my_name = \"sarah\"\n",
    "print(my_name)\n",
    "print(type(my_name))"
   ]
  },
  {
   "cell_type": "markdown",
   "id": "b9452b71-8df1-466c-abb5-1edf1bb19321",
   "metadata": {
    "id": "b9452b71-8df1-466c-abb5-1edf1bb19321"
   },
   "source": [
    "임의의 두개의 숫자를 비교하는 코드를 작성하고, 결괏값을 확인해본다. "
   ]
  },
  {
   "cell_type": "code",
   "execution_count": null,
   "id": "ecc06d54-e5a8-406e-aed3-6270a19bb282",
   "metadata": {
    "id": "ecc06d54-e5a8-406e-aed3-6270a19bb282",
    "outputId": "aa33f9ff-6809-4e0b-b215-4c345bbd9fa1",
    "tags": []
   },
   "outputs": [
    {
     "name": "stdout",
     "output_type": "stream",
     "text": [
      "False\n",
      "<class 'bool'>\n"
     ]
    }
   ],
   "source": [
    "x = 5\n",
    "y = 3\n",
    "z = x == y\n",
    "print(z)\n",
    "print(type(z))"
   ]
  },
  {
   "cell_type": "markdown",
   "id": "cb5bc598-ac84-4666-8063-d7ea56fe15d0",
   "metadata": {
    "id": "cb5bc598-ac84-4666-8063-d7ea56fe15d0"
   },
   "source": [
    "## 사칙연산\n",
    "두 개의 변수를 만들고 사칙연산을 만든다. \n",
    "- 표 작업 : https://www.w3schools.com/python/python_operators.asp"
   ]
  },
  {
   "cell_type": "code",
   "execution_count": null,
   "id": "ba8aec99-4c9b-4af2-979f-7349424715aa",
   "metadata": {
    "colab": {
     "base_uri": "https://localhost:8080/"
    },
    "executionInfo": {
     "elapsed": 386,
     "status": "ok",
     "timestamp": 1683791207642,
     "user": {
      "displayName": "정사라",
      "userId": "14662317940111957326"
     },
     "user_tz": -540
    },
    "id": "ba8aec99-4c9b-4af2-979f-7349424715aa",
    "outputId": "15f0702a-7440-4d2f-e8f7-f7411b577a6a"
   },
   "outputs": [
    {
     "name": "stdout",
     "output_type": "stream",
     "text": [
      "9\n",
      "3\n",
      "18\n",
      "2.0\n"
     ]
    }
   ],
   "source": [
    "x = 6\n",
    "y = 3\n",
    "\n",
    "print(x + y)\n",
    "print(x - y)\n",
    "print(x * y)\n",
    "print(x / y)"
   ]
  },
  {
   "cell_type": "markdown",
   "id": "656f74c1-f646-4096-afb1-971150332808",
   "metadata": {
    "id": "656f74c1-f646-4096-afb1-971150332808"
   },
   "source": [
    "- 나눗셈을 하면 반환값이 실수형인것에 주의한다. "
   ]
  },
  {
   "cell_type": "code",
   "execution_count": null,
   "id": "b3ccbd32-d0d6-4f76-bc1c-1a28c99440bb",
   "metadata": {
    "colab": {
     "base_uri": "https://localhost:8080/"
    },
    "executionInfo": {
     "elapsed": 4,
     "status": "ok",
     "timestamp": 1683791219327,
     "user": {
      "displayName": "정사라",
      "userId": "14662317940111957326"
     },
     "user_tz": -540
    },
    "id": "b3ccbd32-d0d6-4f76-bc1c-1a28c99440bb",
    "outputId": "42234ec2-84c2-4dfa-a849-34d92a957f5c"
   },
   "outputs": [
    {
     "name": "stdout",
     "output_type": "stream",
     "text": [
      "0\n",
      "2\n",
      "216\n"
     ]
    }
   ],
   "source": [
    "x = 6\n",
    "y = 3\n",
    "\n",
    "print(x % y)\n",
    "print(x // y)\n",
    "print(x ** y)"
   ]
  },
  {
   "cell_type": "markdown",
   "id": "460fed45-106d-49b4-ac40-6c7153572b58",
   "metadata": {
    "id": "460fed45-106d-49b4-ac40-6c7153572b58"
   },
   "source": [
    "- 나머지는 0"
   ]
  },
  {
   "cell_type": "code",
   "execution_count": null,
   "id": "9294e9d7-732a-418a-b699-f5c96ade857f",
   "metadata": {
    "id": "9294e9d7-732a-418a-b699-f5c96ade857f",
    "outputId": "8695e975-8b05-4610-8c16-3b376bff9001"
   },
   "outputs": [
    {
     "name": "stdout",
     "output_type": "stream",
     "text": [
      "2\n"
     ]
    }
   ],
   "source": [
    "print(x // y)"
   ]
  },
  {
   "cell_type": "markdown",
   "id": "0d1d8143-a107-4528-ad04-023e6529e536",
   "metadata": {
    "id": "0d1d8143-a107-4528-ad04-023e6529e536"
   },
   "source": [
    "- 몫은 2"
   ]
  },
  {
   "cell_type": "code",
   "execution_count": null,
   "id": "dbcb5818-6e19-475a-b4f0-370bf7454099",
   "metadata": {
    "id": "dbcb5818-6e19-475a-b4f0-370bf7454099",
    "outputId": "83ae6fa6-3d5b-43a5-b495-ea909f2f48c7"
   },
   "outputs": [
    {
     "name": "stdout",
     "output_type": "stream",
     "text": [
      "216\n"
     ]
    }
   ],
   "source": [
    "print(x ** y)"
   ]
  },
  {
   "cell_type": "markdown",
   "id": "b8400191-c4e6-485a-baf5-a0b13d1df684",
   "metadata": {
    "id": "b8400191-c4e6-485a-baf5-a0b13d1df684"
   },
   "source": [
    "- 제곱"
   ]
  },
  {
   "cell_type": "markdown",
   "id": "15e69380-95a9-4fc2-b74c-7d6f1735e7b6",
   "metadata": {
    "id": "15e69380-95a9-4fc2-b74c-7d6f1735e7b6"
   },
   "source": [
    "## 비교 연산자"
   ]
  },
  {
   "cell_type": "code",
   "execution_count": null,
   "id": "e443bae7-afce-4e3a-8eab-3ae051dfb85c",
   "metadata": {
    "colab": {
     "base_uri": "https://localhost:8080/"
    },
    "executionInfo": {
     "elapsed": 379,
     "status": "ok",
     "timestamp": 1683791396550,
     "user": {
      "displayName": "정사라",
      "userId": "14662317940111957326"
     },
     "user_tz": -540
    },
    "id": "e443bae7-afce-4e3a-8eab-3ae051dfb85c",
    "outputId": "22d1e4af-f097-41ba-b872-ea9157ead55f"
   },
   "outputs": [
    {
     "name": "stdout",
     "output_type": "stream",
     "text": [
      "False\n",
      "True\n",
      "False\n",
      "True\n",
      "False\n",
      "True\n"
     ]
    }
   ],
   "source": [
    "x = 10\n",
    "y = 11\n",
    "\n",
    "print(x == y)\n",
    "print(x != y)\n",
    "print(x > y)\n",
    "print(x < y)\n",
    "print(x >= y)\n",
    "print(x <= y)"
   ]
  },
  {
   "cell_type": "markdown",
   "id": "8fd0b094-9928-4e4e-bdd6-45d3f0f43377",
   "metadata": {
    "id": "8fd0b094-9928-4e4e-bdd6-45d3f0f43377"
   },
   "source": [
    "## 논리 연산자"
   ]
  },
  {
   "cell_type": "code",
   "execution_count": null,
   "id": "e256bf89-4b79-405f-a0b0-9aa4d9e63ade",
   "metadata": {
    "id": "e256bf89-4b79-405f-a0b0-9aa4d9e63ade",
    "outputId": "55499b3e-3b73-40f5-b7d3-85ff5f14801a"
   },
   "outputs": [
    {
     "name": "stdout",
     "output_type": "stream",
     "text": [
      "False\n"
     ]
    }
   ],
   "source": [
    "a = 3\n",
    "b = 5\n",
    "\n",
    "print((a > 2) and (b >= 6))   "
   ]
  },
  {
   "cell_type": "code",
   "execution_count": null,
   "id": "b9b4f71f-81b0-4df2-9a93-45e73ed5c1e0",
   "metadata": {
    "id": "b9b4f71f-81b0-4df2-9a93-45e73ed5c1e0",
    "outputId": "c6d31149-bb8b-4bef-f950-631820d41a46"
   },
   "outputs": [
    {
     "name": "stdout",
     "output_type": "stream",
     "text": [
      "True\n",
      "False\n",
      "False\n",
      "False\n"
     ]
    }
   ],
   "source": [
    "print(True and True)\n",
    "print(True and False)\n",
    "print(False and True)\n",
    "print(False and False)"
   ]
  },
  {
   "cell_type": "code",
   "execution_count": null,
   "id": "303c14c3-7d64-4f67-a722-41519eac4158",
   "metadata": {
    "id": "303c14c3-7d64-4f67-a722-41519eac4158",
    "outputId": "316b045c-a30d-42d0-bb11-4ef82b58a99c"
   },
   "outputs": [
    {
     "name": "stdout",
     "output_type": "stream",
     "text": [
      "True\n",
      "True\n",
      "True\n",
      "False\n"
     ]
    }
   ],
   "source": [
    "print(True or True)\n",
    "print(True or False)\n",
    "print(False or True)\n",
    "print(False or False)"
   ]
  },
  {
   "cell_type": "code",
   "execution_count": null,
   "id": "90b31bf7-b68b-4685-860c-e98f5165a512",
   "metadata": {
    "id": "90b31bf7-b68b-4685-860c-e98f5165a512",
    "outputId": "7a3b7b15-a3e6-4308-9d7e-02fc5f2a3f59"
   },
   "outputs": [
    {
     "name": "stdout",
     "output_type": "stream",
     "text": [
      "False\n",
      "True\n"
     ]
    }
   ],
   "source": [
    "print(not True)\n",
    "print(not False)"
   ]
  },
  {
   "cell_type": "markdown",
   "id": "f65d67a7-993f-4dfa-ba83-8498602f5686",
   "metadata": {
    "id": "f65d67a7-993f-4dfa-ba83-8498602f5686"
   },
   "source": [
    "## String"
   ]
  },
  {
   "cell_type": "markdown",
   "id": "efa5dbf1-3676-4a76-95b7-487c0ffaa8a0",
   "metadata": {
    "id": "efa5dbf1-3676-4a76-95b7-487c0ffaa8a0"
   },
   "source": [
    "### String Operators"
   ]
  },
  {
   "cell_type": "code",
   "execution_count": null,
   "id": "5dafc7e6-1d35-40a5-b58d-1ea8cfd8a4c1",
   "metadata": {
    "colab": {
     "base_uri": "https://localhost:8080/"
    },
    "executionInfo": {
     "elapsed": 722,
     "status": "ok",
     "timestamp": 1683791626377,
     "user": {
      "displayName": "정사라",
      "userId": "14662317940111957326"
     },
     "user_tz": -540
    },
    "id": "5dafc7e6-1d35-40a5-b58d-1ea8cfd8a4c1",
    "outputId": "c7c92205-b8e2-4419-9ea3-ab01bfe0396a"
   },
   "outputs": [
    {
     "name": "stdout",
     "output_type": "stream",
     "text": [
      "boy loves girl forever\n"
     ]
    }
   ],
   "source": [
    "a = \"boy\"\n",
    "b = \"loves\"\n",
    "c = \"girl\"\n",
    "\n",
    "letter = a + \" \" + b + \" \" + c + \" forever\"\n",
    "print(letter)"
   ]
  },
  {
   "cell_type": "code",
   "execution_count": null,
   "id": "09fa9c18-d9e6-4c8b-a3c7-a649b6b3e50c",
   "metadata": {
    "colab": {
     "base_uri": "https://localhost:8080/"
    },
    "executionInfo": {
     "elapsed": 22,
     "status": "ok",
     "timestamp": 1683791580831,
     "user": {
      "displayName": "정사라",
      "userId": "14662317940111957326"
     },
     "user_tz": -540
    },
    "id": "09fa9c18-d9e6-4c8b-a3c7-a649b6b3e50c",
    "outputId": "c45749c1-dee1-4f08-bab7-c79cf14283c8"
   },
   "outputs": [
    {
     "name": "stdout",
     "output_type": "stream",
     "text": [
      "Love Love Love Love Love \n"
     ]
    }
   ],
   "source": [
    "x = \"Love \"\n",
    "lyrics = x * 5\n",
    "print(lyrics)"
   ]
  },
  {
   "cell_type": "markdown",
   "id": "b7f6a7ca-5b09-4738-b875-86faa81294be",
   "metadata": {
    "id": "b7f6a7ca-5b09-4738-b875-86faa81294be"
   },
   "source": [
    "### 인덱싱"
   ]
  },
  {
   "cell_type": "code",
   "execution_count": null,
   "id": "282b9cce-769c-4dcf-859c-1f27ee7fed51",
   "metadata": {
    "colab": {
     "base_uri": "https://localhost:8080/"
    },
    "executionInfo": {
     "elapsed": 1115,
     "status": "ok",
     "timestamp": 1683791664824,
     "user": {
      "displayName": "정사라",
      "userId": "14662317940111957326"
     },
     "user_tz": -540
    },
    "id": "282b9cce-769c-4dcf-859c-1f27ee7fed51",
    "outputId": "0895709b-303b-4188-e8ba-72ef2ae0f255"
   },
   "outputs": [
    {
     "name": "stdout",
     "output_type": "stream",
     "text": [
      "S\n",
      "m\n",
      "d\n",
      "a\n"
     ]
    }
   ],
   "source": [
    "X = \"Streamlit Dashboard\"\n",
    "print(X[0])  # 0번째 글자 가져오기\n",
    "print(X[5])  # 5번째 글자 가져오기\n",
    "print(X[-1]) # -1번째 글자 가져오기\n",
    "print(X[-3]) # -3번째 글자 가져오기"
   ]
  },
  {
   "cell_type": "code",
   "execution_count": null,
   "id": "01d83edf-132a-4fbb-a715-5ae2dcdc9bcc",
   "metadata": {
    "colab": {
     "base_uri": "https://localhost:8080/",
     "height": 172
    },
    "executionInfo": {
     "elapsed": 21,
     "status": "error",
     "timestamp": 1683791580833,
     "user": {
      "displayName": "정사라",
      "userId": "14662317940111957326"
     },
     "user_tz": -540
    },
    "id": "01d83edf-132a-4fbb-a715-5ae2dcdc9bcc",
    "outputId": "39285662-85fe-4526-dd8b-dd444ded9458"
   },
   "outputs": [
    {
     "ename": "IndexError",
     "evalue": "ignored",
     "output_type": "error",
     "traceback": [
      "\u001b[0;31m---------------------------------------------------------------------------\u001b[0m",
      "\u001b[0;31mIndexError\u001b[0m                                Traceback (most recent call last)",
      "\u001b[0;32m<ipython-input-10-38fa578cf155>\u001b[0m in \u001b[0;36m<cell line: 1>\u001b[0;34m()\u001b[0m\n\u001b[0;32m----> 1\u001b[0;31m \u001b[0mprint\u001b[0m\u001b[0;34m(\u001b[0m\u001b[0mX\u001b[0m\u001b[0;34m[\u001b[0m\u001b[0;36m100\u001b[0m\u001b[0;34m]\u001b[0m\u001b[0;34m)\u001b[0m\u001b[0;34m\u001b[0m\u001b[0;34m\u001b[0m\u001b[0m\n\u001b[0m",
      "\u001b[0;31mIndexError\u001b[0m: string index out of range"
     ]
    }
   ],
   "source": [
    "print(X[100])"
   ]
  },
  {
   "cell_type": "markdown",
   "id": "89191b48-2829-43d2-a400-ea187b17a00b",
   "metadata": {
    "id": "89191b48-2829-43d2-a400-ea187b17a00b"
   },
   "source": [
    "### 슬라이싱"
   ]
  },
  {
   "cell_type": "code",
   "execution_count": null,
   "id": "460d7c6f-c239-4c29-9880-38284ff87954",
   "metadata": {
    "colab": {
     "base_uri": "https://localhost:8080/"
    },
    "executionInfo": {
     "elapsed": 411,
     "status": "ok",
     "timestamp": 1683791903984,
     "user": {
      "displayName": "정사라",
      "userId": "14662317940111957326"
     },
     "user_tz": -540
    },
    "id": "460d7c6f-c239-4c29-9880-38284ff87954",
    "outputId": "8dbcda1a-baf0-4686-c0b2-5d3f1cd7d729"
   },
   "outputs": [
    {
     "name": "stdout",
     "output_type": "stream",
     "text": [
      "Hello Streamlit\n",
      "Streamlit\n",
      "Hello \n",
      "lo St\n",
      "HloSr\n"
     ]
    }
   ],
   "source": [
    "greeting = \"Hello Streamlit\"\n",
    "print(greeting[:])\n",
    "print(greeting[6:])\n",
    "print(greeting[:6])\n",
    "print(greeting[3:8])\n",
    "print(greeting[0:9:2])"
   ]
  },
  {
   "cell_type": "markdown",
   "id": "ce5f742e-5150-43c5-98d7-31e4a53e1a12",
   "metadata": {
    "id": "ce5f742e-5150-43c5-98d7-31e4a53e1a12"
   },
   "source": [
    "### 문자열 수정\n"
   ]
  },
  {
   "cell_type": "code",
   "execution_count": null,
   "id": "73313565-27c7-4943-965d-399e03a85416",
   "metadata": {
    "colab": {
     "base_uri": "https://localhost:8080/",
     "height": 209
    },
    "executionInfo": {
     "elapsed": 1556,
     "status": "error",
     "timestamp": 1683792613415,
     "user": {
      "displayName": "정사라",
      "userId": "14662317940111957326"
     },
     "user_tz": -540
    },
    "id": "73313565-27c7-4943-965d-399e03a85416",
    "outputId": "e91d0a21-02bd-43bd-a2eb-625cb7784ad5"
   },
   "outputs": [
    {
     "ename": "TypeError",
     "evalue": "ignored",
     "output_type": "error",
     "traceback": [
      "\u001b[0;31m---------------------------------------------------------------------------\u001b[0m",
      "\u001b[0;31mTypeError\u001b[0m                                 Traceback (most recent call last)",
      "\u001b[0;32m<ipython-input-14-077d6cac862f>\u001b[0m in \u001b[0;36m<cell line: 2>\u001b[0;34m()\u001b[0m\n\u001b[1;32m      1\u001b[0m \u001b[0mgreeting\u001b[0m \u001b[0;34m=\u001b[0m \u001b[0;34m'Hello, Streamlit'\u001b[0m\u001b[0;34m\u001b[0m\u001b[0;34m\u001b[0m\u001b[0m\n\u001b[0;32m----> 2\u001b[0;31m \u001b[0mgreeting\u001b[0m\u001b[0;34m[\u001b[0m\u001b[0;36m0\u001b[0m\u001b[0;34m]\u001b[0m \u001b[0;34m=\u001b[0m \u001b[0;34m'A'\u001b[0m\u001b[0;34m\u001b[0m\u001b[0;34m\u001b[0m\u001b[0m\n\u001b[0m\u001b[1;32m      3\u001b[0m \u001b[0mprint\u001b[0m\u001b[0;34m(\u001b[0m\u001b[0mgreeting\u001b[0m\u001b[0;34m)\u001b[0m\u001b[0;34m\u001b[0m\u001b[0;34m\u001b[0m\u001b[0m\n",
      "\u001b[0;31mTypeError\u001b[0m: 'str' object does not support item assignment"
     ]
    }
   ],
   "source": [
    "greeting = 'Hello, Streamlit'\n",
    "greeting[0] = 'A'\n",
    "print(greeting)"
   ]
  },
  {
   "cell_type": "code",
   "execution_count": null,
   "id": "a5c9e0f0-8cb9-423a-8455-1dd360cc2d4c",
   "metadata": {
    "colab": {
     "base_uri": "https://localhost:8080/"
    },
    "executionInfo": {
     "elapsed": 451,
     "status": "ok",
     "timestamp": 1683792632810,
     "user": {
      "displayName": "정사라",
      "userId": "14662317940111957326"
     },
     "user_tz": -540
    },
    "id": "a5c9e0f0-8cb9-423a-8455-1dd360cc2d4c",
    "outputId": "8b5312cb-177b-437b-b496-e2592f09b342"
   },
   "outputs": [
    {
     "name": "stdout",
     "output_type": "stream",
     "text": [
      "Aello, Streamlit\n"
     ]
    }
   ],
   "source": [
    "new_greeting = 'A' + greeting[1:]\n",
    "print(new_greeting)"
   ]
  },
  {
   "cell_type": "markdown",
   "id": "58faf1b7-7509-429e-b033-e49e3ddf546a",
   "metadata": {
    "id": "58faf1b7-7509-429e-b033-e49e3ddf546a"
   },
   "source": [
    "### 문자열 메서드"
   ]
  },
  {
   "cell_type": "code",
   "execution_count": null,
   "id": "ca05b094-d713-4af2-a742-5a23f1b393ef",
   "metadata": {
    "colab": {
     "base_uri": "https://localhost:8080/"
    },
    "executionInfo": {
     "elapsed": 9,
     "status": "ok",
     "timestamp": 1683792878220,
     "user": {
      "displayName": "정사라",
      "userId": "14662317940111957326"
     },
     "user_tz": -540
    },
    "id": "ca05b094-d713-4af2-a742-5a23f1b393ef",
    "outputId": "5bef5b0c-5b77-4d28-8957-70cc5f2eecae"
   },
   "outputs": [
    {
     "name": "stdout",
     "output_type": "stream",
     "text": [
      "HELLO, STREAMLIT\n"
     ]
    }
   ],
   "source": [
    "sampleText = \"hello, streamlit\"\n",
    "upper_text = sampleText.upper()\n",
    "print(upper_text)"
   ]
  },
  {
   "cell_type": "code",
   "execution_count": null,
   "id": "255d06de-5c94-4ff0-8f6b-5ff12ba28740",
   "metadata": {
    "colab": {
     "base_uri": "https://localhost:8080/"
    },
    "executionInfo": {
     "elapsed": 4,
     "status": "ok",
     "timestamp": 1683792887306,
     "user": {
      "displayName": "정사라",
      "userId": "14662317940111957326"
     },
     "user_tz": -540
    },
    "id": "255d06de-5c94-4ff0-8f6b-5ff12ba28740",
    "outputId": "ed17d1a5-c35e-4b46-bf27-3bf7d1c95fa9"
   },
   "outputs": [
    {
     "name": "stdout",
     "output_type": "stream",
     "text": [
      "hello, streamlit\n"
     ]
    }
   ],
   "source": [
    "sampleText = \"HELLO, STREAMLIT\"\n",
    "lower_text = sampleText.lower()\n",
    "print(lower_text)"
   ]
  },
  {
   "cell_type": "code",
   "execution_count": null,
   "id": "a6fa10f2-0ddf-4efe-91f6-33f67443bc23",
   "metadata": {
    "colab": {
     "base_uri": "https://localhost:8080/"
    },
    "executionInfo": {
     "elapsed": 392,
     "status": "ok",
     "timestamp": 1683792919593,
     "user": {
      "displayName": "정사라",
      "userId": "14662317940111957326"
     },
     "user_tz": -540
    },
    "id": "a6fa10f2-0ddf-4efe-91f6-33f67443bc23",
    "outputId": "ffeb855d-39c1-4b02-e2cb-83aac9945c25"
   },
   "outputs": [
    {
     "name": "stdout",
     "output_type": "stream",
     "text": [
      "Hello, streamlit\n"
     ]
    }
   ],
   "source": [
    "sampleText = \"hello, streamlit\"\n",
    "cap_text = sampleText.capitalize()\n",
    "print(cap_text)"
   ]
  },
  {
   "cell_type": "code",
   "execution_count": null,
   "id": "6d63f1f5-206c-43c4-ba4a-f2f14072aee9",
   "metadata": {
    "colab": {
     "base_uri": "https://localhost:8080/"
    },
    "executionInfo": {
     "elapsed": 6,
     "status": "ok",
     "timestamp": 1683792943456,
     "user": {
      "displayName": "정사라",
      "userId": "14662317940111957326"
     },
     "user_tz": -540
    },
    "id": "6d63f1f5-206c-43c4-ba4a-f2f14072aee9",
    "outputId": "0dfedf5a-e38d-458e-acd4-0c0f7858b9f1"
   },
   "outputs": [
    {
     "name": "stdout",
     "output_type": "stream",
     "text": [
      "Hello, Streamlit\n"
     ]
    }
   ],
   "source": [
    "sampleText = \"hello, streamlit\"\n",
    "title_text = sampleText.title()\n",
    "print(title_text)"
   ]
  },
  {
   "cell_type": "code",
   "execution_count": null,
   "id": "92453f12-27ca-469b-83cc-30480df9df55",
   "metadata": {
    "colab": {
     "base_uri": "https://localhost:8080/"
    },
    "executionInfo": {
     "elapsed": 6,
     "status": "ok",
     "timestamp": 1683792956818,
     "user": {
      "displayName": "정사라",
      "userId": "14662317940111957326"
     },
     "user_tz": -540
    },
    "id": "92453f12-27ca-469b-83cc-30480df9df55",
    "outputId": "2a558802-2cea-4e27-dc46-f0bd9fb847ae"
   },
   "outputs": [
    {
     "name": "stdout",
     "output_type": "stream",
     "text": [
      "hello, streamlit\n"
     ]
    }
   ],
   "source": [
    "sampleText = \"   hello, streamlit   \"\n",
    "stripped_text = sampleText.strip()\n",
    "print(stripped_text)"
   ]
  },
  {
   "cell_type": "code",
   "execution_count": null,
   "id": "aa86f68d-ca90-49a0-9439-585012f27442",
   "metadata": {
    "colab": {
     "base_uri": "https://localhost:8080/"
    },
    "executionInfo": {
     "elapsed": 822,
     "status": "ok",
     "timestamp": 1683793008674,
     "user": {
      "displayName": "정사라",
      "userId": "14662317940111957326"
     },
     "user_tz": -540
    },
    "id": "aa86f68d-ca90-49a0-9439-585012f27442",
    "outputId": "2b4eb637-640f-4dd0-f457-7ad6194a4260"
   },
   "outputs": [
    {
     "name": "stdout",
     "output_type": "stream",
     "text": [
      "welcome, streamlit\n"
     ]
    }
   ],
   "source": [
    "sampleText = \"hello, streamlit\"\n",
    "new_text = sampleText.replace(\"hello\", \"welcome\")\n",
    "print(new_text)"
   ]
  },
  {
   "cell_type": "code",
   "execution_count": null,
   "id": "fa231224-c823-49f0-9af3-02847c752e58",
   "metadata": {
    "colab": {
     "base_uri": "https://localhost:8080/"
    },
    "executionInfo": {
     "elapsed": 1157,
     "status": "ok",
     "timestamp": 1683793058544,
     "user": {
      "displayName": "정사라",
      "userId": "14662317940111957326"
     },
     "user_tz": -540
    },
    "id": "fa231224-c823-49f0-9af3-02847c752e58",
    "outputId": "3e64492b-ec69-4774-d702-296db88ea72e"
   },
   "outputs": [
    {
     "name": "stdout",
     "output_type": "stream",
     "text": [
      "['hello', ' streamlit']\n"
     ]
    }
   ],
   "source": [
    "sampleText = \"hello, streamlit\"\n",
    "words = sampleText.split(sep=\",\")\n",
    "print(words)"
   ]
  },
  {
   "cell_type": "code",
   "execution_count": null,
   "id": "b00a463f-7f5e-4e1d-ad38-e2a7d119ca7f",
   "metadata": {
    "colab": {
     "base_uri": "https://localhost:8080/"
    },
    "executionInfo": {
     "elapsed": 590,
     "status": "ok",
     "timestamp": 1683793065137,
     "user": {
      "displayName": "정사라",
      "userId": "14662317940111957326"
     },
     "user_tz": -540
    },
    "id": "b00a463f-7f5e-4e1d-ad38-e2a7d119ca7f",
    "outputId": "2643548c-0f07-4122-97a2-d2d869bb353d"
   },
   "outputs": [
    {
     "name": "stdout",
     "output_type": "stream",
     "text": [
      "hello, streamlit\n"
     ]
    }
   ],
   "source": [
    "words = [\"hello\", \"streamlit\"]\n",
    "text = \", \".join(words)\n",
    "print(text)"
   ]
  },
  {
   "cell_type": "markdown",
   "id": "8ab64612-2547-4728-9a0d-379ef49e2a73",
   "metadata": {
    "id": "8ab64612-2547-4728-9a0d-379ef49e2a73"
   },
   "source": [
    "## List"
   ]
  },
  {
   "cell_type": "code",
   "execution_count": null,
   "id": "de9f4c1d-35c5-46f6-b899-6618b21b621d",
   "metadata": {
    "id": "de9f4c1d-35c5-46f6-b899-6618b21b621d",
    "outputId": "c19bc421-9788-423b-c59c-0b41495d9b1f"
   },
   "outputs": [
    {
     "name": "stdout",
     "output_type": "stream",
     "text": [
      "False\n",
      "True\n",
      "True\n"
     ]
    }
   ],
   "source": [
    "from collections.abc import Sequence\n",
    "\n",
    "my_num = 100\n",
    "my_list = [1, 2, 3]\n",
    "my_string = \"hello\"\n",
    "\n",
    "is_num = isinstance(my_num, Sequence)\n",
    "is_list = isinstance(my_list, Sequence)\n",
    "is_string = isinstance(my_string, Sequence)\n",
    "\n",
    "print(is_num)\n",
    "print(is_list)\n",
    "print(is_string)"
   ]
  },
  {
   "cell_type": "markdown",
   "id": "c9090332-af52-43e2-a00a-fd5bb4ce3b8e",
   "metadata": {
    "id": "c9090332-af52-43e2-a00a-fd5bb4ce3b8e"
   },
   "source": [
    "### 인덱싱 & 슬라이싱"
   ]
  },
  {
   "cell_type": "code",
   "execution_count": null,
   "id": "e11d06dc-5aad-4f83-8393-7f781f031add",
   "metadata": {
    "id": "e11d06dc-5aad-4f83-8393-7f781f031add",
    "outputId": "b2cb158c-8462-4188-e0cd-113e9190c373"
   },
   "outputs": [
    {
     "name": "stdout",
     "output_type": "stream",
     "text": [
      "1\n",
      "2\n",
      "3\n",
      "3\n"
     ]
    }
   ],
   "source": [
    "a = [1, 2, 3]\n",
    "print(a[0]) # 첫번째 요소\n",
    "print(a[1]) # 두번째 요소\n",
    "print(a[2]) # 세번째 요소\n",
    "print(a[-1])"
   ]
  },
  {
   "cell_type": "code",
   "execution_count": null,
   "id": "d59d4ec9-4e6f-4757-a6fb-88227cbb8cba",
   "metadata": {
    "colab": {
     "base_uri": "https://localhost:8080/"
    },
    "executionInfo": {
     "elapsed": 4,
     "status": "ok",
     "timestamp": 1683865903892,
     "user": {
      "displayName": "정사라",
      "userId": "14662317940111957326"
     },
     "user_tz": -540
    },
    "id": "d59d4ec9-4e6f-4757-a6fb-88227cbb8cba",
    "outputId": "9c5cc13a-db3b-40e7-f010-1702cb1cec2b"
   },
   "outputs": [
    {
     "data": {
      "text/plain": [
       "['spice', 'of', 'life']"
      ]
     },
     "execution_count": 1,
     "metadata": {},
     "output_type": "execute_result"
    }
   ],
   "source": [
    "my_list = [1, 2, [\"Variety\", \"is\", \"the\", \"spice\", \"of\", \"life\"], 4, 5]\n",
    "\n",
    "# spice of life 조회\n",
    "my_list[2][3:]"
   ]
  },
  {
   "cell_type": "markdown",
   "id": "cff97aa3-b3a8-4fb9-af56-ef14f07fdc4d",
   "metadata": {
    "id": "cff97aa3-b3a8-4fb9-af56-ef14f07fdc4d"
   },
   "source": [
    "### append()"
   ]
  },
  {
   "cell_type": "code",
   "execution_count": null,
   "id": "e01b64bd-76e5-42a7-bea1-7205a9eeb541",
   "metadata": {
    "colab": {
     "base_uri": "https://localhost:8080/"
    },
    "executionInfo": {
     "elapsed": 299,
     "status": "ok",
     "timestamp": 1683866227605,
     "user": {
      "displayName": "정사라",
      "userId": "14662317940111957326"
     },
     "user_tz": -540
    },
    "id": "e01b64bd-76e5-42a7-bea1-7205a9eeb541",
    "outputId": "5998fb92-9c1c-4b51-ebc3-2df0ba373723"
   },
   "outputs": [
    {
     "data": {
      "text/plain": [
       "['I', 'like', 'your smile']"
      ]
     },
     "execution_count": 2,
     "metadata": {},
     "output_type": "execute_result"
    }
   ],
   "source": [
    "letter = [\"I\", \"like\"]\n",
    "letter.append(\"your smile\")\n",
    "letter"
   ]
  },
  {
   "cell_type": "markdown",
   "id": "b176fa62-2587-4b48-8d1a-0787e801d628",
   "metadata": {
    "id": "b176fa62-2587-4b48-8d1a-0787e801d628"
   },
   "source": [
    "### extend()"
   ]
  },
  {
   "cell_type": "code",
   "execution_count": null,
   "id": "8fc10a88-2f6e-4bfa-a5b0-53fa7b8759b4",
   "metadata": {
    "colab": {
     "base_uri": "https://localhost:8080/"
    },
    "executionInfo": {
     "elapsed": 268,
     "status": "ok",
     "timestamp": 1683866343613,
     "user": {
      "displayName": "정사라",
      "userId": "14662317940111957326"
     },
     "user_tz": -540
    },
    "id": "8fc10a88-2f6e-4bfa-a5b0-53fa7b8759b4",
    "outputId": "758ee54f-cd65-48c1-b86e-e77b065fb302"
   },
   "outputs": [
    {
     "data": {
      "text/plain": [
       "['Do', 'You', 'Like', 'Coffee', '?']"
      ]
     },
     "execution_count": 3,
     "metadata": {},
     "output_type": "execute_result"
    }
   ],
   "source": [
    "letter = [\"Do\", \"You\"]\n",
    "letter.extend([\"Like\", \"Coffee\", \"?\"])\n",
    "letter"
   ]
  },
  {
   "cell_type": "markdown",
   "id": "8c5ad0bc-c9c0-45b4-bd73-04dab49da269",
   "metadata": {
    "id": "8c5ad0bc-c9c0-45b4-bd73-04dab49da269"
   },
   "source": [
    "### insert()"
   ]
  },
  {
   "cell_type": "code",
   "execution_count": null,
   "id": "e895d709-2796-4641-83c2-77e22ae21d07",
   "metadata": {
    "colab": {
     "base_uri": "https://localhost:8080/"
    },
    "executionInfo": {
     "elapsed": 3,
     "status": "ok",
     "timestamp": 1683866460292,
     "user": {
      "displayName": "정사라",
      "userId": "14662317940111957326"
     },
     "user_tz": -540
    },
    "id": "e895d709-2796-4641-83c2-77e22ae21d07",
    "outputId": "fcc70433-21c9-44df-9182-f5d865e5b1a0"
   },
   "outputs": [
    {
     "data": {
      "text/plain": [
       "['Live', 'the', 'life', 'you', 'love']"
      ]
     },
     "execution_count": 4,
     "metadata": {},
     "output_type": "execute_result"
    }
   ],
   "source": [
    "letter = [\"Live\", \"the\", \"you\", \"love\"]\n",
    "letter.insert(2, \"life\")\n",
    "letter"
   ]
  },
  {
   "cell_type": "markdown",
   "id": "ab1052c1-2471-41b9-89c5-161165d1e0b0",
   "metadata": {
    "id": "ab1052c1-2471-41b9-89c5-161165d1e0b0"
   },
   "source": [
    "### 리스트 값 변경"
   ]
  },
  {
   "cell_type": "code",
   "execution_count": null,
   "id": "91702b15-a93e-4de3-813d-a28371a49810",
   "metadata": {
    "colab": {
     "base_uri": "https://localhost:8080/"
    },
    "executionInfo": {
     "elapsed": 2,
     "status": "ok",
     "timestamp": 1683867198960,
     "user": {
      "displayName": "정사라",
      "userId": "14662317940111957326"
     },
     "user_tz": -540
    },
    "id": "91702b15-a93e-4de3-813d-a28371a49810",
    "outputId": "5618f899-9ccf-4341-bd99-b652fd4938d1"
   },
   "outputs": [
    {
     "data": {
      "text/plain": [
       "['You', 'are', 'my', 'everything']"
      ]
     },
     "execution_count": 5,
     "metadata": {},
     "output_type": "execute_result"
    }
   ],
   "source": [
    "letter = [\"You\", \"are\", \"my\", \"friend\"]\n",
    "letter[3] = \"everything\"\n",
    "letter"
   ]
  },
  {
   "cell_type": "markdown",
   "id": "46e8baee-499e-469a-b48e-f853de859ad7",
   "metadata": {
    "id": "46e8baee-499e-469a-b48e-f853de859ad7"
   },
   "source": [
    "## 리스트 값 삭제"
   ]
  },
  {
   "cell_type": "code",
   "execution_count": null,
   "id": "548717a6-e6b2-45e5-893c-7ba931e81c63",
   "metadata": {
    "id": "548717a6-e6b2-45e5-893c-7ba931e81c63",
    "outputId": "7c5495fa-cf52-4688-ad6c-0fb52d45dd3d"
   },
   "outputs": [
    {
     "name": "stdout",
     "output_type": "stream",
     "text": [
      "[302, 418, 430, 529]\n",
      "[302, 418, 430]\n"
     ]
    }
   ],
   "source": [
    "# 임의의 숫자 리스트를 생성한다. \n",
    "dates = [302, 401, 418, 430, 529]\n",
    " \n",
    "# 401를 제거한다. \n",
    "dates.remove(401)\n",
    "print(dates)\n",
    "\n",
    "# 529를 제거한다. \n",
    "dates.remove(529)\n",
    "print(dates)"
   ]
  },
  {
   "cell_type": "markdown",
   "id": "5452dcb7-70d9-4eec-90ec-fc3b0bf9f0db",
   "metadata": {
    "id": "5452dcb7-70d9-4eec-90ec-fc3b0bf9f0db"
   },
   "source": [
    "## 리스트 값 정렬"
   ]
  },
  {
   "cell_type": "code",
   "execution_count": null,
   "id": "57033264-dfcf-47b5-b50f-045b2013e068",
   "metadata": {
    "colab": {
     "base_uri": "https://localhost:8080/"
    },
    "executionInfo": {
     "elapsed": 403,
     "status": "ok",
     "timestamp": 1683867545075,
     "user": {
      "displayName": "정사라",
      "userId": "14662317940111957326"
     },
     "user_tz": -540
    },
    "id": "57033264-dfcf-47b5-b50f-045b2013e068",
    "outputId": "b6dab9f1-e3a4-4b21-eb0c-428a4fdd5ce6"
   },
   "outputs": [
    {
     "data": {
      "text/plain": [
       "['apple', 'book', 'cookie']"
      ]
     },
     "execution_count": 10,
     "metadata": {},
     "output_type": "execute_result"
    }
   ],
   "source": [
    "letters = [\"cookie\", \"book\", \"apple\"]\n",
    "letters.sort()\n",
    "letters"
   ]
  },
  {
   "cell_type": "code",
   "execution_count": null,
   "id": "8cb3cae2-095d-4860-969c-842de48a8c23",
   "metadata": {
    "colab": {
     "base_uri": "https://localhost:8080/"
    },
    "executionInfo": {
     "elapsed": 252,
     "status": "ok",
     "timestamp": 1683867611993,
     "user": {
      "displayName": "정사라",
      "userId": "14662317940111957326"
     },
     "user_tz": -540
    },
    "id": "8cb3cae2-095d-4860-969c-842de48a8c23",
    "outputId": "8371415b-9700-49f8-b3a5-8a58eeda85a9"
   },
   "outputs": [
    {
     "data": {
      "text/plain": [
       "[201, 217, 302, 317, 322, 329]"
      ]
     },
     "execution_count": 11,
     "metadata": {},
     "output_type": "execute_result"
    }
   ],
   "source": [
    "dates = [329, 322, 317, 302, 217, 201]\n",
    "dates.sort()\n",
    "dates"
   ]
  },
  {
   "cell_type": "markdown",
   "id": "231f4802-d6c7-4ef6-889c-59f0dc0c7954",
   "metadata": {
    "id": "231f4802-d6c7-4ef6-889c-59f0dc0c7954"
   },
   "source": [
    "## 튜플"
   ]
  },
  {
   "cell_type": "code",
   "execution_count": null,
   "id": "e952fda8-ffec-4bb7-9fed-03fdb5271726",
   "metadata": {
    "id": "e952fda8-ffec-4bb7-9fed-03fdb5271726",
    "outputId": "d939b547-72fa-4b11-b859-1fbc9a7d5c7d"
   },
   "outputs": [
    {
     "name": "stdout",
     "output_type": "stream",
     "text": [
      "('Hi', 1, 3.12)\n",
      "('Hi', [1, 2, 3], (3.12, 1.23, 4.21))\n"
     ]
    }
   ],
   "source": [
    "my_tuple = (\"Hi\", 1, 3.12)\n",
    "print(my_tuple)\n",
    "\n",
    "my_nested_tuple = (\"Hi\", [1, 2, 3], (3.12, 1.23, 4.21))\n",
    "print(my_nested_tuple)"
   ]
  },
  {
   "cell_type": "code",
   "execution_count": null,
   "id": "daeb4132-8d6a-4ccd-9f56-b69df234d6d3",
   "metadata": {
    "id": "daeb4132-8d6a-4ccd-9f56-b69df234d6d3",
    "outputId": "463169a4-a1b3-43e6-d9ba-a0d885d652ec"
   },
   "outputs": [
    {
     "name": "stdout",
     "output_type": "stream",
     "text": [
      "(1, 2, 3)\n"
     ]
    }
   ],
   "source": [
    "my_tuple = 1, 2, 3\n",
    "print(my_tuple)"
   ]
  },
  {
   "cell_type": "code",
   "execution_count": null,
   "id": "d4702f3b-bae0-4c90-91a7-4c7339712b7e",
   "metadata": {
    "colab": {
     "base_uri": "https://localhost:8080/"
    },
    "executionInfo": {
     "elapsed": 1313,
     "status": "ok",
     "timestamp": 1683868011059,
     "user": {
      "displayName": "정사라",
      "userId": "14662317940111957326"
     },
     "user_tz": -540
    },
    "id": "d4702f3b-bae0-4c90-91a7-4c7339712b7e",
    "outputId": "d9c78c46-fb10-40cf-9506-65c6362d6cb5"
   },
   "outputs": [
    {
     "data": {
      "text/plain": [
       "('started', 'and', 'keep going')"
      ]
     },
     "execution_count": 12,
     "metadata": {},
     "output_type": "execute_result"
    }
   ],
   "source": [
    "my_tuple = (1, 2, (\"Remember\", \"why\", \"you\", \"started\", \"and\", \"keep going\"), 4, 5)\n",
    "\n",
    "# started and keep going 조회\n",
    "my_tuple[2][3:]"
   ]
  },
  {
   "cell_type": "code",
   "execution_count": null,
   "id": "95882536-2205-4e5a-b8a8-22d4f9bb908f",
   "metadata": {
    "id": "95882536-2205-4e5a-b8a8-22d4f9bb908f",
    "outputId": "00fda6b5-718e-4c6a-de21-276f18cba156"
   },
   "outputs": [
    {
     "name": "stdout",
     "output_type": "stream",
     "text": [
      "5\n",
      "3\n"
     ]
    }
   ],
   "source": [
    "my_tuple = (\"Love\", \"Love\", \"Love\", \"Hate\", \"Love\", \"Love\")\n",
    "\n",
    "print(my_tuple.count('Love')) \n",
    "print(my_tuple.index('Hate'))"
   ]
  },
  {
   "cell_type": "markdown",
   "id": "b6296717-de27-4132-9868-6179784b2917",
   "metadata": {
    "id": "b6296717-de27-4132-9868-6179784b2917"
   },
   "source": [
    "## 딕셔너리"
   ]
  },
  {
   "cell_type": "code",
   "execution_count": null,
   "id": "fa5c79fb-79e4-47b6-be28-0643dac87c2e",
   "metadata": {
    "id": "fa5c79fb-79e4-47b6-be28-0643dac87c2e",
    "outputId": "81cf0af6-5f5d-4148-9e7c-3728ad604edf"
   },
   "outputs": [
    {
     "name": "stdout",
     "output_type": "stream",
     "text": [
      "{'name': 'sarah', 'age': 20, 'job': 'Data Analyst', 'shopping': [1, 2, 3]}\n",
      "sarah\n",
      "20\n",
      "[1, 2, 3]\n"
     ]
    }
   ],
   "source": [
    "my_dic = {'name':'sarah', 'age': 20, 'job': 'Data Analyst', 'shopping':[1,2,3]}\n",
    "\n",
    "print(my_dic)\n",
    "print(my_dic['name'])\n",
    "print(my_dic['age'])\n",
    "print(my_dic['shopping'])"
   ]
  },
  {
   "cell_type": "code",
   "execution_count": null,
   "id": "1f4bc555-be06-4b15-861a-09e0bc0843f4",
   "metadata": {
    "id": "1f4bc555-be06-4b15-861a-09e0bc0843f4",
    "outputId": "001fc234-a602-4ff0-8cb9-d67c36e42ea9"
   },
   "outputs": [
    {
     "name": "stdout",
     "output_type": "stream",
     "text": [
      "{'name': 'sarah', 'age': 20, 'job': 'Data Analyst', 'shopping': [1, 2, 3], 'country': 'S. Korea'}\n"
     ]
    }
   ],
   "source": [
    "# 기존 딕셔너리에 값을 추가\n",
    "my_dic['country'] = 'S. Korea'\n",
    "print(my_dic)"
   ]
  },
  {
   "cell_type": "code",
   "execution_count": null,
   "id": "51f665cf-76c8-4e7f-827d-ed0149412728",
   "metadata": {
    "id": "51f665cf-76c8-4e7f-827d-ed0149412728",
    "outputId": "d6de99c2-bb31-4694-9203-b50e94422cc5"
   },
   "outputs": [
    {
     "name": "stdout",
     "output_type": "stream",
     "text": [
      "{'name': 'sarah', 'age': 20, 'job': 'Data Analyst', 'shopping': '가방', 'country': 'S. Korea'}\n"
     ]
    }
   ],
   "source": [
    "my_dic['shopping'] = '가방'\n",
    "print(my_dic)"
   ]
  },
  {
   "cell_type": "code",
   "execution_count": null,
   "id": "5b0d9a63-a3d8-4c36-ab40-d6f04e20cccb",
   "metadata": {
    "id": "5b0d9a63-a3d8-4c36-ab40-d6f04e20cccb",
    "outputId": "44ec3cbe-bfa0-474a-8130-d9dc8038b925"
   },
   "outputs": [
    {
     "name": "stdout",
     "output_type": "stream",
     "text": [
      "{'name': 'sarah', 'age': 20, 'job': 'Data Analyst', 'country': 'S. Korea'}\n"
     ]
    }
   ],
   "source": [
    "del my_dic['shopping']\n",
    "print(my_dic)"
   ]
  },
  {
   "cell_type": "code",
   "execution_count": null,
   "id": "b083c4c5-d9e8-46af-bfce-f76eccf0b36d",
   "metadata": {
    "id": "b083c4c5-d9e8-46af-bfce-f76eccf0b36d",
    "outputId": "b322b10f-e6ec-47c7-841d-ad70efc3737d"
   },
   "outputs": [
    {
     "data": {
      "text/plain": [
       "dict_keys(['name', 'age', 'job', 'country'])"
      ]
     },
     "execution_count": 8,
     "metadata": {},
     "output_type": "execute_result"
    }
   ],
   "source": [
    "my_dic.keys()"
   ]
  },
  {
   "cell_type": "code",
   "execution_count": null,
   "id": "e6c1e7f0-020e-4415-af05-e13775215f88",
   "metadata": {
    "id": "e6c1e7f0-020e-4415-af05-e13775215f88",
    "outputId": "e40e3ec9-9c06-4e3c-ced1-9b8118ccfb49"
   },
   "outputs": [
    {
     "data": {
      "text/plain": [
       "dict_values(['sarah', 20, 'Data Analyst', 'S. Korea'])"
      ]
     },
     "execution_count": 10,
     "metadata": {},
     "output_type": "execute_result"
    }
   ],
   "source": [
    "my_dic.values()"
   ]
  },
  {
   "cell_type": "code",
   "execution_count": null,
   "id": "4030b297-dd25-4c49-a3d9-f11640878c60",
   "metadata": {
    "id": "4030b297-dd25-4c49-a3d9-f11640878c60",
    "outputId": "e30a596d-6f79-46fa-9dcd-38fab6354c84"
   },
   "outputs": [
    {
     "data": {
      "text/plain": [
       "dict_items([('name', 'sarah'), ('age', 20), ('job', 'Data Analyst'), ('country', 'S. Korea')])"
      ]
     },
     "execution_count": 11,
     "metadata": {},
     "output_type": "execute_result"
    }
   ],
   "source": [
    "my_dic.items()"
   ]
  },
  {
   "cell_type": "code",
   "execution_count": null,
   "id": "1d805e4a-0357-46ba-a89b-92ae41c4a092",
   "metadata": {
    "id": "1d805e4a-0357-46ba-a89b-92ae41c4a092",
    "outputId": "d94f56f0-8e4c-4d54-ccad-c161ec3d1539"
   },
   "outputs": [
    {
     "name": "stdout",
     "output_type": "stream",
     "text": [
      "sarah\n",
      "20\n",
      "Data Analyst\n",
      "S. Korea\n"
     ]
    }
   ],
   "source": [
    "for i in my_dic:\n",
    "    print(my_dic[i])"
   ]
  },
  {
   "cell_type": "markdown",
   "id": "e2de40c7-47ee-439e-86ea-5f76ac025f70",
   "metadata": {
    "id": "e2de40c7-47ee-439e-86ea-5f76ac025f70"
   },
   "source": [
    "## 조건문"
   ]
  },
  {
   "cell_type": "code",
   "execution_count": null,
   "id": "2fda8eb7-b5aa-41c6-8cce-0d099c25bf00",
   "metadata": {
    "id": "2fda8eb7-b5aa-41c6-8cce-0d099c25bf00",
    "outputId": "1bb062f1-9c10-4f5f-8820-58ac2e1873ab"
   },
   "outputs": [
    {
     "name": "stdout",
     "output_type": "stream",
     "text": [
      "a가 b보다 크거나 같다\n"
     ]
    }
   ],
   "source": [
    "# 숫자 비교\n",
    "a = 38\n",
    "b = 31\n",
    "\n",
    "if a >= b:\n",
    "    print(\"a가 b보다 크거나 같다\")\n",
    "else:\n",
    "    print(\"b가 a보다 작다\")"
   ]
  },
  {
   "cell_type": "code",
   "execution_count": null,
   "id": "4682db70-986f-4db3-b5dc-a47d4cd3e18d",
   "metadata": {
    "id": "4682db70-986f-4db3-b5dc-a47d4cd3e18d",
    "outputId": "9eec6bb3-6a58-408d-9b58-ef5f81250d15"
   },
   "outputs": [
    {
     "name": "stdout",
     "output_type": "stream",
     "text": [
      "a가 b와 같다\n"
     ]
    }
   ],
   "source": [
    "# 숫자 비교\n",
    "a = 31\n",
    "b = 31\n",
    "\n",
    "if a > b:\n",
    "    print(\"a가 b보다 크다\")\n",
    "elif a == b:\n",
    "    print(\"a가 b와 같다\")\n",
    "else:\n",
    "    print(\"a가 b보다 작다\")"
   ]
  },
  {
   "cell_type": "code",
   "execution_count": null,
   "id": "622870c5-de0e-40e0-a942-7fc07a766810",
   "metadata": {
    "id": "622870c5-de0e-40e0-a942-7fc07a766810",
    "outputId": "187b74da-5e35-4c8c-c29b-783f24bf2073"
   },
   "outputs": [
    {
     "name": "stdout",
     "output_type": "stream",
     "text": [
      "문자열 let이 존재한다.\n"
     ]
    }
   ],
   "source": [
    "my_string = \"Don't let them in, don't let them see\"\n",
    "\n",
    "if \"let\" in my_string:\n",
    "    print(\"문자열 let이 존재한다.\")\n",
    "else:\n",
    "    print(\"문자열 let이 존재하지 않는다\")"
   ]
  },
  {
   "cell_type": "code",
   "execution_count": null,
   "id": "dd1b15f1-fd9b-4cb2-8ce9-7a9172155bc8",
   "metadata": {
    "id": "dd1b15f1-fd9b-4cb2-8ce9-7a9172155bc8",
    "outputId": "03ae2cdd-0851-4c6d-f5a0-7ab28b4db23f",
    "tags": []
   },
   "outputs": [
    {
     "name": "stdin",
     "output_type": "stream",
     "text": [
      "점수 입력 100\n"
     ]
    },
    {
     "name": "stdout",
     "output_type": "stream",
     "text": [
      "A등급\n"
     ]
    }
   ],
   "source": [
    "a = int(input(\"점수 입력\"))\n",
    "if a >= 90 and a <= 100:\n",
    "    result = \"A등급\"\n",
    "elif a >= 80 and a < 90:\n",
    "    result = \"B등급\"\n",
    "elif a >= 100:\n",
    "    result = \"0~100 작성\"\n",
    "elif a < 0:\n",
    "    result = \"0~100 작성\"\n",
    "else:\n",
    "    result = \"C등급\"\n",
    "print(result)"
   ]
  },
  {
   "cell_type": "code",
   "execution_count": null,
   "id": "5ccfefd3-a104-4fea-adbd-800d93d691a0",
   "metadata": {
    "id": "5ccfefd3-a104-4fea-adbd-800d93d691a0",
    "outputId": "2ebc5d72-961d-4788-d9c6-25fe99edf37e"
   },
   "outputs": [
    {
     "name": "stdout",
     "output_type": "stream",
     "text": [
      "a가 b보다 크거나 같다\n"
     ]
    }
   ],
   "source": [
    "a = 38\n",
    "b = 31\n",
    "\n",
    "result = \"a가 b보다 크거나 같다\" if a >= b else \"b가 a보다 작다\"\n",
    "print(result)"
   ]
  },
  {
   "cell_type": "markdown",
   "id": "67eab708-3099-4256-9ac7-aac3a34b60ab",
   "metadata": {
    "id": "67eab708-3099-4256-9ac7-aac3a34b60ab"
   },
   "source": [
    "## for loop"
   ]
  },
  {
   "cell_type": "code",
   "execution_count": null,
   "id": "0a57c765-a1a8-45c3-b324-4d04af5a814b",
   "metadata": {
    "id": "0a57c765-a1a8-45c3-b324-4d04af5a814b",
    "outputId": "627871e3-c86a-4587-8643-e063575e8e1c"
   },
   "outputs": [
    {
     "name": "stdout",
     "output_type": "stream",
     "text": [
      "파이썬\n",
      "HTML\n",
      "CSS\n",
      "자바\n"
     ]
    }
   ],
   "source": [
    "programming = ['파이썬', 'HTML', 'CSS', '자바']\n",
    "\n",
    "for idx in programming:\n",
    "    print(idx)"
   ]
  },
  {
   "cell_type": "code",
   "execution_count": null,
   "id": "b8536648-7907-4b77-ad33-dc33f3bdedee",
   "metadata": {
    "id": "b8536648-7907-4b77-ad33-dc33f3bdedee",
    "outputId": "566135c2-8b77-4531-e492-1ba29cbfc7a1"
   },
   "outputs": [
    {
     "name": "stdout",
     "output_type": "stream",
     "text": [
      "0\n",
      "1\n"
     ]
    }
   ],
   "source": [
    "for i in range(2):\n",
    "    print(i)"
   ]
  },
  {
   "cell_type": "code",
   "execution_count": null,
   "id": "6b8617f9-93b1-42ca-a348-e6cac5a3655f",
   "metadata": {
    "id": "6b8617f9-93b1-42ca-a348-e6cac5a3655f",
    "outputId": "959008c6-e07e-45df-c200-975849cc4e11"
   },
   "outputs": [
    {
     "name": "stdout",
     "output_type": "stream",
     "text": [
      "0\n",
      "1\n",
      "반복문 완전 종료!\n"
     ]
    }
   ],
   "source": [
    "for x in range(2):\n",
    "  print(x)\n",
    "else:\n",
    "  print(\"반복문 완전 종료!\")"
   ]
  },
  {
   "cell_type": "code",
   "execution_count": null,
   "id": "159b030a-79b6-400c-9615-b628a031a3c1",
   "metadata": {
    "id": "159b030a-79b6-400c-9615-b628a031a3c1",
    "outputId": "c3589500-f1b8-4188-f4c2-37f24572ad57"
   },
   "outputs": [
    {
     "name": "stdout",
     "output_type": "stream",
     "text": [
      "0 Hi\n",
      "1 1\n",
      "2 3.12\n"
     ]
    }
   ],
   "source": [
    "my_tuple = (\"Hi\", 1, 3.12)\n",
    "for i, item in enumerate(my_tuple):\n",
    "    print(i, item)"
   ]
  },
  {
   "cell_type": "code",
   "execution_count": null,
   "id": "3191b8fc-b363-4f22-bb3f-38a2cfa6ffe9",
   "metadata": {
    "id": "3191b8fc-b363-4f22-bb3f-38a2cfa6ffe9",
    "outputId": "1b63eedc-ba98-4565-9f55-2b348c178bf2"
   },
   "outputs": [
    {
     "name": "stdout",
     "output_type": "stream",
     "text": [
      "전체 매출액 : 12500.0\n",
      "전체 매출액 : 14850.0\n",
      "전체 매출액 : 570.0\n"
     ]
    }
   ],
   "source": [
    "total_sales  = [5000, 4500, 300]\n",
    "prices = [2.5, 3.3, 1.9]\n",
    "\n",
    "for sales, price in zip(total_sales, prices):\n",
    "    revenue = sales * price\n",
    "    print(f'전체 매출액 : {revenue}')"
   ]
  },
  {
   "cell_type": "markdown",
   "id": "ad9e725e-2023-4948-8c16-aa8df19d9dfd",
   "metadata": {
    "id": "ad9e725e-2023-4948-8c16-aa8df19d9dfd"
   },
   "source": [
    "## while Loop"
   ]
  },
  {
   "cell_type": "code",
   "execution_count": null,
   "id": "348b22d6-b4c3-4936-b2a4-6ced3d0887a6",
   "metadata": {
    "id": "348b22d6-b4c3-4936-b2a4-6ced3d0887a6",
    "outputId": "14e83a7c-0ab6-4238-9f2c-752e9601e3c4"
   },
   "outputs": [
    {
     "name": "stdout",
     "output_type": "stream",
     "text": [
      "1\n",
      "2\n",
      "3\n"
     ]
    }
   ],
   "source": [
    "i = 1\n",
    "while i <= 3:\n",
    "    print(i)\n",
    "    i += 1"
   ]
  },
  {
   "cell_type": "code",
   "execution_count": null,
   "id": "70c3317c-3917-4d56-95c6-424ad777385f",
   "metadata": {
    "colab": {
     "base_uri": "https://localhost:8080/"
    },
    "executionInfo": {
     "elapsed": 8943,
     "status": "ok",
     "timestamp": 1683868854551,
     "user": {
      "displayName": "정사라",
      "userId": "14662317940111957326"
     },
     "user_tz": -540
    },
    "id": "70c3317c-3917-4d56-95c6-424ad777385f",
    "outputId": "35af1409-c921-4f08-eb96-4c9f6384a038",
    "tags": []
   },
   "outputs": [
    {
     "name": "stdout",
     "output_type": "stream",
     "text": [
      "사용자 이름을 입력해주세요..!sarah\n",
      "정확한 비밀번호가 필요합니다.\n",
      "비밀번호를 입력해주세요..!a\n",
      "정확한 비밀번호가 필요합니다.\n",
      "비밀번호를 입력해주세요..!1234\n",
      "sarah님 환영합니다\n"
     ]
    }
   ],
   "source": [
    "username = input(\"사용자 이름을 입력해주세요..!\")\n",
    "password = ''\n",
    "\n",
    "while password != '1234':\n",
    "    print('정확한 비밀번호가 필요합니다.')\n",
    "    password = input(\"비밀번호를 입력해주세요..!\")\n",
    "\n",
    "print(f'{username}님 환영합니다')"
   ]
  },
  {
   "cell_type": "markdown",
   "id": "ba1630ae-053b-4e9f-9050-2b4d3de7a103",
   "metadata": {
    "id": "ba1630ae-053b-4e9f-9050-2b4d3de7a103"
   },
   "source": [
    "## 사용자 정의 함수"
   ]
  },
  {
   "cell_type": "code",
   "execution_count": null,
   "id": "fbf7f0c7-bbf5-46b9-9a02-06a0b743bd78",
   "metadata": {
    "id": "fbf7f0c7-bbf5-46b9-9a02-06a0b743bd78",
    "tags": []
   },
   "outputs": [],
   "source": [
    "# https://www.tutorialsteacher.com/python/python-user-defined-function\n",
    "def hello():\n",
    "    \"\"\"이 함수는 'Hello World!'를 출력한다!\"\"\"\n",
    "    print(\"Hello World!\")"
   ]
  },
  {
   "cell_type": "code",
   "execution_count": null,
   "id": "79140354-8aa1-4ef4-bc69-4fc5ab3f2918",
   "metadata": {
    "id": "79140354-8aa1-4ef4-bc69-4fc5ab3f2918",
    "outputId": "1fe8ea08-0054-453a-fc29-eae74c2a54c1",
    "tags": []
   },
   "outputs": [
    {
     "name": "stdout",
     "output_type": "stream",
     "text": [
      "Hello World!\n"
     ]
    }
   ],
   "source": [
    "hello()"
   ]
  },
  {
   "cell_type": "code",
   "execution_count": null,
   "id": "8f7519bf-7393-49b2-919f-78b25132171b",
   "metadata": {
    "id": "8f7519bf-7393-49b2-919f-78b25132171b",
    "outputId": "a90a7d1f-9fd2-4611-e60c-5f4f6414bcb9",
    "tags": []
   },
   "outputs": [
    {
     "name": "stdout",
     "output_type": "stream",
     "text": [
      "Help on function hello in module __main__:\n",
      "\n",
      "hello()\n",
      "    이 함수는 'Hello World!'를 출력한다!\n",
      "\n"
     ]
    }
   ],
   "source": [
    "help(hello)"
   ]
  },
  {
   "cell_type": "code",
   "execution_count": null,
   "id": "cbdaa0cd-a631-413e-a854-d758e6c32f60",
   "metadata": {
    "id": "cbdaa0cd-a631-413e-a854-d758e6c32f60",
    "tags": []
   },
   "outputs": [],
   "source": [
    "def hello(name):\n",
    "    print(\"안녕!\", name)"
   ]
  },
  {
   "cell_type": "code",
   "execution_count": null,
   "id": "afaecfa3-1243-46ec-9c60-eab443ce77fe",
   "metadata": {
    "id": "afaecfa3-1243-46ec-9c60-eab443ce77fe",
    "outputId": "8dbaa27c-8c9e-4364-b45d-fe195ea83928",
    "tags": []
   },
   "outputs": [
    {
     "name": "stdout",
     "output_type": "stream",
     "text": [
      "안녕! Sarah\n"
     ]
    }
   ],
   "source": [
    "hello(\"Sarah\")"
   ]
  },
  {
   "cell_type": "code",
   "execution_count": null,
   "id": "27b23c9d-22d2-47f5-90a7-428657bd3f6e",
   "metadata": {
    "id": "27b23c9d-22d2-47f5-90a7-428657bd3f6e",
    "outputId": "3b695773-7060-4e01-bac1-1157ef288021",
    "tags": []
   },
   "outputs": [
    {
     "name": "stdout",
     "output_type": "stream",
     "text": [
      "안녕! 123\n"
     ]
    }
   ],
   "source": [
    "hello(123)"
   ]
  },
  {
   "cell_type": "code",
   "execution_count": null,
   "id": "e3636a71-8c0c-4e12-af29-a47730fa3e57",
   "metadata": {
    "id": "e3636a71-8c0c-4e12-af29-a47730fa3e57",
    "tags": []
   },
   "outputs": [],
   "source": [
    "def hello(name: str) -> None:\n",
    "    if not isinstance(name, str):\n",
    "        raise TypeError(\"Name must be a string.\")\n",
    "    print(f\"안녕, {name}!\")"
   ]
  },
  {
   "cell_type": "code",
   "execution_count": null,
   "id": "ad29adea-3e6b-4802-a7ed-87f06b53bcdc",
   "metadata": {
    "id": "ad29adea-3e6b-4802-a7ed-87f06b53bcdc",
    "outputId": "c26cc4d3-2d36-4d9c-daff-65fa3e651f8f",
    "tags": []
   },
   "outputs": [
    {
     "name": "stdout",
     "output_type": "stream",
     "text": [
      "안녕, Sarah!\n"
     ]
    },
    {
     "ename": "TypeError",
     "evalue": "Name must be a string.",
     "output_type": "error",
     "traceback": [
      "\u001b[1;31m---------------------------------------------------------------------------\u001b[0m",
      "\u001b[1;31mTypeError\u001b[0m                                 Traceback (most recent call last)",
      "\u001b[1;32m~\\AppData\\Local\\Temp\\ipykernel_16224\\2086311308.py\u001b[0m in \u001b[0;36m<module>\u001b[1;34m\u001b[0m\n\u001b[0;32m      1\u001b[0m \u001b[0mhello\u001b[0m\u001b[1;33m(\u001b[0m\u001b[1;34m\"Sarah\"\u001b[0m\u001b[1;33m)\u001b[0m\u001b[1;33m\u001b[0m\u001b[1;33m\u001b[0m\u001b[0m\n\u001b[1;32m----> 2\u001b[1;33m \u001b[0mhello\u001b[0m\u001b[1;33m(\u001b[0m\u001b[1;36m111\u001b[0m\u001b[1;33m)\u001b[0m\u001b[1;33m\u001b[0m\u001b[1;33m\u001b[0m\u001b[0m\n\u001b[0m",
      "\u001b[1;32m~\\AppData\\Local\\Temp\\ipykernel_16224\\1821164633.py\u001b[0m in \u001b[0;36mhello\u001b[1;34m(name)\u001b[0m\n\u001b[0;32m      1\u001b[0m \u001b[1;32mdef\u001b[0m \u001b[0mhello\u001b[0m\u001b[1;33m(\u001b[0m\u001b[0mname\u001b[0m\u001b[1;33m:\u001b[0m \u001b[0mstr\u001b[0m\u001b[1;33m)\u001b[0m \u001b[1;33m->\u001b[0m \u001b[1;32mNone\u001b[0m\u001b[1;33m:\u001b[0m\u001b[1;33m\u001b[0m\u001b[1;33m\u001b[0m\u001b[0m\n\u001b[0;32m      2\u001b[0m     \u001b[1;32mif\u001b[0m \u001b[1;32mnot\u001b[0m \u001b[0misinstance\u001b[0m\u001b[1;33m(\u001b[0m\u001b[0mname\u001b[0m\u001b[1;33m,\u001b[0m \u001b[0mstr\u001b[0m\u001b[1;33m)\u001b[0m\u001b[1;33m:\u001b[0m\u001b[1;33m\u001b[0m\u001b[1;33m\u001b[0m\u001b[0m\n\u001b[1;32m----> 3\u001b[1;33m         \u001b[1;32mraise\u001b[0m \u001b[0mTypeError\u001b[0m\u001b[1;33m(\u001b[0m\u001b[1;34m\"Name must be a string.\"\u001b[0m\u001b[1;33m)\u001b[0m\u001b[1;33m\u001b[0m\u001b[1;33m\u001b[0m\u001b[0m\n\u001b[0m\u001b[0;32m      4\u001b[0m     \u001b[0mprint\u001b[0m\u001b[1;33m(\u001b[0m\u001b[1;34mf\"안녕, {name}!\"\u001b[0m\u001b[1;33m)\u001b[0m\u001b[1;33m\u001b[0m\u001b[1;33m\u001b[0m\u001b[0m\n",
      "\u001b[1;31mTypeError\u001b[0m: Name must be a string."
     ]
    }
   ],
   "source": [
    "hello(\"Sarah\")\n",
    "hello(111)"
   ]
  },
  {
   "cell_type": "code",
   "execution_count": null,
   "id": "0038c440-d848-492a-a204-e731de010fa9",
   "metadata": {
    "id": "0038c440-d848-492a-a204-e731de010fa9",
    "outputId": "a254a2d9-e0e1-4712-e45b-2d4e1db268a9",
    "tags": []
   },
   "outputs": [
    {
     "name": "stdout",
     "output_type": "stream",
     "text": [
      "6\n"
     ]
    }
   ],
   "source": [
    "def add(a, b, c):\n",
    "    return a + b + c\n",
    "\n",
    "print(add(1, 2, 3))"
   ]
  },
  {
   "cell_type": "code",
   "execution_count": null,
   "id": "9432ad8c-f953-451d-a957-83af5a997016",
   "metadata": {
    "id": "9432ad8c-f953-451d-a957-83af5a997016",
    "outputId": "1878e286-77aa-4bff-978d-9286849e677b"
   },
   "outputs": [
    {
     "ename": "TypeError",
     "evalue": "add() missing 1 required positional argument: 'c'",
     "output_type": "error",
     "traceback": [
      "\u001b[1;31m---------------------------------------------------------------------------\u001b[0m",
      "\u001b[1;31mTypeError\u001b[0m                                 Traceback (most recent call last)",
      "\u001b[1;32m~\\AppData\\Local\\Temp\\ipykernel_2836\\1396764233.py\u001b[0m in \u001b[0;36m<module>\u001b[1;34m\u001b[0m\n\u001b[1;32m----> 1\u001b[1;33m \u001b[0mprint\u001b[0m\u001b[1;33m(\u001b[0m\u001b[0madd\u001b[0m\u001b[1;33m(\u001b[0m\u001b[1;36m1\u001b[0m\u001b[1;33m,\u001b[0m \u001b[1;36m2\u001b[0m\u001b[1;33m)\u001b[0m\u001b[1;33m)\u001b[0m\u001b[1;33m\u001b[0m\u001b[1;33m\u001b[0m\u001b[0m\n\u001b[0m",
      "\u001b[1;31mTypeError\u001b[0m: add() missing 1 required positional argument: 'c'"
     ]
    }
   ],
   "source": [
    "print(add(1, 2))"
   ]
  },
  {
   "cell_type": "code",
   "execution_count": null,
   "id": "a8a5546a-6eea-436f-aaed-f58ade67bcb2",
   "metadata": {
    "id": "a8a5546a-6eea-436f-aaed-f58ade67bcb2",
    "outputId": "4e7e4315-b071-4169-9fb7-3d135d0f3c1a"
   },
   "outputs": [
    {
     "name": "stdout",
     "output_type": "stream",
     "text": [
      "(1, 2, 3) <class 'tuple'>\n"
     ]
    },
    {
     "data": {
      "text/plain": [
       "(1, 2, 3)"
      ]
     },
     "execution_count": 6,
     "metadata": {},
     "output_type": "execute_result"
    }
   ],
   "source": [
    "def add(*args):\n",
    "    print(args, type(args))\n",
    "    return args\n",
    "\n",
    "add(1, 2, 3)"
   ]
  },
  {
   "cell_type": "code",
   "execution_count": null,
   "id": "606eda36-2cb3-4981-b9b4-19586942e756",
   "metadata": {
    "id": "606eda36-2cb3-4981-b9b4-19586942e756",
    "outputId": "196be955-a45e-4133-ce77-8e1e66036124"
   },
   "outputs": [
    {
     "name": "stdout",
     "output_type": "stream",
     "text": [
      "3\n",
      "6\n",
      "10\n"
     ]
    }
   ],
   "source": [
    "def add(*args):\n",
    "    addition = 0\n",
    "    for number in args:\n",
    "        addition += number\n",
    "    return addition\n",
    "\n",
    "print(add(1, 2))\n",
    "print(add(1, 2, 3))\n",
    "print(add(1, 2, 3, 4))"
   ]
  },
  {
   "cell_type": "code",
   "execution_count": null,
   "id": "c0bbaee5-49c5-4d4b-b9bf-2bd4e2320c09",
   "metadata": {
    "id": "c0bbaee5-49c5-4d4b-b9bf-2bd4e2320c09",
    "outputId": "fcb98b3f-ff12-429a-a33f-8387cda8b790"
   },
   "outputs": [
    {
     "name": "stdout",
     "output_type": "stream",
     "text": [
      "3\n",
      "6\n",
      "10\n"
     ]
    }
   ],
   "source": [
    "def add(*args):\n",
    "    return sum(args)\n",
    "\n",
    "print(add(1, 2))\n",
    "print(add(1, 2, 3))\n",
    "print(add(1, 2, 3, 4))"
   ]
  },
  {
   "cell_type": "code",
   "execution_count": null,
   "id": "cb8ca8b5-932d-4c46-8242-f08727c9c330",
   "metadata": {
    "id": "cb8ca8b5-932d-4c46-8242-f08727c9c330",
    "outputId": "9094e2e8-0faa-493f-84a2-ce9feacc55a5"
   },
   "outputs": [
    {
     "name": "stdout",
     "output_type": "stream",
     "text": [
      "name Sarah\n",
      "age 30\n",
      "city Seoul\n"
     ]
    }
   ],
   "source": [
    "def temp(**kwargs):\n",
    "    for key, value in kwargs.items():\n",
    "        print(key, value)\n",
    "\n",
    "temp(name=\"Sarah\", age=30, city=\"Seoul\")"
   ]
  },
  {
   "cell_type": "code",
   "execution_count": null,
   "id": "ad66996a-7734-47d4-84ce-4afb0fb20aa6",
   "metadata": {
    "colab": {
     "base_uri": "https://localhost:8080/"
    },
    "executionInfo": {
     "elapsed": 244,
     "status": "ok",
     "timestamp": 1683869738752,
     "user": {
      "displayName": "정사라",
      "userId": "14662317940111957326"
     },
     "user_tz": -540
    },
    "id": "ad66996a-7734-47d4-84ce-4afb0fb20aa6",
    "outputId": "e43d261c-5d78-4f02-8956-1c50cc85fc45"
   },
   "outputs": [
    {
     "name": "stdout",
     "output_type": "stream",
     "text": [
      "Once upon a time, there lived a king and a queen, and they loved each other, \n"
     ]
    }
   ],
   "source": [
    "def story(**kwargs):\n",
    "    result = \"\"\n",
    "    for arg in kwargs.values():\n",
    "        result += arg + \", \"\n",
    "    return result\n",
    "\n",
    "print(story(a=\"Once upon a time\", \n",
    "                 b=\"there lived a king and a queen\", \n",
    "                 c=\"and they loved each other\"))"
   ]
  },
  {
   "cell_type": "markdown",
   "id": "32f58001-9fc9-4176-8e96-859a079dc234",
   "metadata": {},
   "source": [
    "# 클래스"
   ]
  },
  {
   "cell_type": "markdown",
   "id": "e50c569b-8271-4b17-ba93-2758e34051aa",
   "metadata": {},
   "source": [
    "## 클래스 기본 개념"
   ]
  },
  {
   "cell_type": "code",
   "execution_count": 2,
   "id": "5562dc25-fc00-43fe-9e98-6eea249af91a",
   "metadata": {},
   "outputs": [],
   "source": [
    "class Human:\n",
    "    # 초기화 메서드 (__init__): 객체의 속성을 정의\n",
    "    def __init__(self, name, age, height, weight):\n",
    "        self.name = name        # 이름\n",
    "        self.age = age          # 나이\n",
    "        self.height = height    # 키\n",
    "        self.weight = weight    # 몸무게\n",
    "\n",
    "    # 행동 1: 말하기\n",
    "    def speak(self):\n",
    "        return f\"안녕하세요, 제 이름은 {self.name}이고, 나이는 {self.age}살입니다.\"\n",
    "\n",
    "    # 행동 2: 걷기\n",
    "    def walk(self):\n",
    "        return f\"{self.name}이(가) 걷고 있습니다.\"\n",
    "\n",
    "    # 행동 3: 먹기\n",
    "    def eat(self, food):\n",
    "        return f\"{self.name}이(가) {food}를(을) 먹고 있습니다.\""
   ]
  },
  {
   "cell_type": "markdown",
   "id": "e9e8ef9d-8926-4d24-8161-7e4efc66cdbb",
   "metadata": {},
   "source": [
    "## 객체 생성"
   ]
  },
  {
   "cell_type": "code",
   "execution_count": 4,
   "id": "cbfd09ff-1072-4905-835b-8f29b9b7eca9",
   "metadata": {},
   "outputs": [],
   "source": [
    "person1 = Human(name = \"Evan\", age = 30, height = 180, weight = 79)\n",
    "person2 = Human(\"Sara\", 30, 160, 55)"
   ]
  },
  {
   "cell_type": "code",
   "execution_count": 5,
   "id": "506b3d49-b61d-439c-8ccf-c09c3864d6b1",
   "metadata": {},
   "outputs": [
    {
     "name": "stdout",
     "output_type": "stream",
     "text": [
      "Evan\n",
      "30\n",
      "안녕하세요, 제 이름은 Evan이고, 나이는 30살입니다.\n",
      "Sara이(가) 걷고 있습니다.\n",
      "Evan이(가) 사과를(을) 먹고 있습니다.\n"
     ]
    }
   ],
   "source": [
    "# 속성 접근\n",
    "print(person1.name) \n",
    "print(person2.age)   \n",
    "\n",
    "# 메서드 호출\n",
    "print(person1.speak())     \n",
    "print(person2.walk())       \n",
    "print(person1.eat(\"사과\"))  "
   ]
  },
  {
   "cell_type": "markdown",
   "id": "6ed75747-676c-4b6b-8b07-cdbc5d7507bf",
   "metadata": {},
   "source": [
    "## 클래스 상속"
   ]
  },
  {
   "cell_type": "code",
<<<<<<< HEAD
   "execution_count": 1,
=======
   "execution_count": 3,
>>>>>>> 4662546e92d8e4671e177c5271296abe17b42c65
   "id": "7472d3c8-0a38-49d7-b135-4098dccf794a",
   "metadata": {},
   "outputs": [
    {
     "name": "stdout",
     "output_type": "stream",
     "text": [
<<<<<<< HEAD
      "바둑이이(가) 소리를 냅니다.\n",
      "나비이(가) 소리를 냅니다.\n"
=======
      "인절미이(가) 소리를 냅니다.\n",
      "꽁치이(가) 소리를 냅니다.\n"
>>>>>>> 4662546e92d8e4671e177c5271296abe17b42c65
     ]
    }
   ],
   "source": [
    "class Animal:\n",
    "    def __init__(self, name):\n",
    "        self.name = name\n",
    "\n",
    "    def speak(self):\n",
    "        return f\"{self.name}이(가) 소리를 냅니다.\"\n",
    "\n",
    "class Dog(Animal):\n",
    "    pass  # 부모 클래스의 기능을 그대로 상속받음\n",
    "\n",
    "class Cat(Animal):\n",
    "    pass  # 부모 클래스의 기능을 그대로 상속받음\n",
    "\n",
<<<<<<< HEAD
    "dog = Dog(\"\")\n",
    "cat = Cat(\"나비\")\n",
    "\n",
    "print(dog.speak())  # 출력: 바둑이이(가) 소리를 냅니다.\n",
    "print(cat.speak())  # 출력: 나비이(가) 소리를 냅니다."
=======
    "dog = Dog(\"인절미\")\n",
    "cat = Cat(\"꽁치\")\n",
    "\n",
    "print(dog.speak())  # 출력: 인절미(가) 소리를 냅니다.\n",
    "print(cat.speak())  # 출력: 꽁치(가) 소리를 냅니다."
   ]
  },
  {
   "cell_type": "markdown",
   "id": "9279a9a3-5321-43d9-b28e-7512d8b1d43f",
   "metadata": {},
   "source": [
    "## 메서드 오버라이딩"
   ]
  },
  {
   "cell_type": "code",
   "execution_count": 4,
   "id": "9c9f88bb-cca9-4249-96f5-a810dbcb2b9d",
   "metadata": {},
   "outputs": [
    {
     "name": "stdout",
     "output_type": "stream",
     "text": [
      "인절미이(가) 멍멍 짖습니다.\n",
      "꽁치이(가) 야옹 소리를 냅니다.\n"
     ]
    }
   ],
   "source": [
    "class Animal:\n",
    "    def __init__(self, name):\n",
    "        self.name = name\n",
    "\n",
    "    def speak(self):\n",
    "        return f\"{self.name}이(가) 소리를 냅니다.\"\n",
    "\n",
    "class Dog(Animal):\n",
    "    def speak(self):\n",
    "        return f\"{self.name}이(가) 멍멍 짖습니다.\"\n",
    "\n",
    "class Cat(Animal):\n",
    "    def speak(self):\n",
    "        return f\"{self.name}이(가) 야옹 소리를 냅니다.\"\n",
    "\n",
    "dog = Dog(\"인절미\")\n",
    "cat = Cat(\"꽁치\")\n",
    "\n",
    "print(dog.speak())  # 출력: 멍멍 짖습니다.\n",
    "print(cat.speak())  # 출력: 야옹 소리를 냅니다."
   ]
  },
  {
   "cell_type": "markdown",
   "id": "821278f8-54fe-470e-99a2-df67be3cade2",
   "metadata": {},
   "source": [
    "## 영화속 예제 상속"
   ]
  },
  {
   "cell_type": "code",
   "execution_count": 2,
   "id": "4b317faa-614f-4e25-b270-1377214411ce",
   "metadata": {},
   "outputs": [
    {
     "name": "stdout",
     "output_type": "stream",
     "text": [
      "제 이름은 알버스 덤블도어입니다.\n",
      "세베루스 스네이프는(은) 릴리 포터에게 충성을 바칩니다.\n",
      "세베루스 스네이프의 패트로누스는 암사슴(으)로 나타납니다.\n",
      "\"Lily! After all this time?\"라고 알버스 덤블도어가 물었습니다.\n",
      "\"Always,\"라고 세베루스 스네이프가 대답했습니다.\n"
     ]
    }
   ],
   "source": [
    "class Character:\n",
    "    def __init__(self, name):\n",
    "        self.name = name\n",
    "\n",
    "    def introduce(self):\n",
    "        return f\"제 이름은 {self.name}입니다.\"\n",
    "\n",
    "class Wizard(Character):\n",
    "    def __init__(self, name, house, loyalty):\n",
    "        super().__init__(name)\n",
    "        self.house = house\n",
    "        self.loyalty = loyalty\n",
    "\n",
    "    def display_loyalty(self):\n",
    "        return f\"{self.name}는(은) {self.loyalty}에게 충성을 바칩니다.\"\n",
    "\n",
    "class Patronus:\n",
    "    def __init__(self, form, owner):\n",
    "        self.form = form  # 패트로누스의 형태 (예: 암사슴)\n",
    "        self.owner = owner  # 패트로누스의 소유자\n",
    "\n",
    "    def describe(self):\n",
    "        return f\"{self.owner.name}의 패트로누스는 {self.form}(으)로 나타납니다.\"\n",
    "\n",
    "# 특정 캐릭터 정의\n",
    "snape = Wizard(name=\"세베루스 스네이프\", house=\"슬리데린\", loyalty=\"릴리 포터\")\n",
    "dumbledore = Wizard(name=\"알버스 덤블도어\", house=\"그리핀도르\", loyalty=\"호그와트\")\n",
    "\n",
    "# 스네이프의 패트로누스 정의\n",
    "snape_patronus = Patronus(form=\"암사슴\", owner=snape)\n",
    "\n",
    "# 장면 재현\n",
    "print(dumbledore.introduce())  # \"제 이름은 알버스 덤블도어입니다.\"\n",
    "print(snape.display_loyalty())  # \"세베루스 스네이프는 릴리 포터에게 충성을 바칩니다.\"\n",
    "print(snape_patronus.describe())  # \"세베루스 스네이프의 패트로누스는 암사슴으로 나타납니다.\"\n",
    "\n",
    "# 유명한 대화 장면\n",
    "print(f'\"Lily! After all this time?\"라고 {dumbledore.name}가 물었습니다.')\n",
    "print(f'\"Always,\"라고 {snape.name}가 대답했습니다.')"
>>>>>>> 4662546e92d8e4671e177c5271296abe17b42c65
   ]
  },
  {
   "cell_type": "markdown",
   "id": "f32b1f47-46c3-46d8-934d-f7ddef2a27d4",
   "metadata": {},
   "source": [
    "## 클래스 실전 예제\n",
    "은행 계좌 시스템은 객체 지향 프로그래밍의 개념을 실제로 적용해볼 수 있는 좋은 예제입니다. 이 시스템은 다음과 같은 기능들을 제공합니다. 계좌 생성, 입금/출금 기능, 잔액 조회, 거래 내역 조회. "
   ]
  },
  {
   "cell_type": "code",
   "execution_count": 12,
   "id": "487d7c58-ecaf-4933-b0de-9d3cabc29e8e",
   "metadata": {},
   "outputs": [
    {
     "name": "stdout",
     "output_type": "stream",
     "text": [
      "Welcome to the Banking System!\n"
     ]
    },
    {
     "name": "stdin",
     "output_type": "stream",
     "text": [
      "Please enter account holder name:  Evan\n",
      "Enter initial deposit amount: $ 1000\n"
     ]
    },
    {
     "name": "stdout",
     "output_type": "stream",
     "text": [
      "\n",
      "=== Banking Menu ===\n",
      "1. Deposit Money\n",
      "2. Withdraw Money\n",
      "3. Check Balance\n",
      "4. Print Statement\n",
      "5. Exit\n"
     ]
    },
    {
     "name": "stdin",
     "output_type": "stream",
     "text": [
      "\n",
      "Enter your choice (1-5):  1\n",
      "Enter deposit amount: $ 1000\n"
     ]
    },
    {
     "name": "stdout",
     "output_type": "stream",
     "text": [
      "Deposit successful!\n",
      "\n",
      "=== Banking Menu ===\n",
      "1. Deposit Money\n",
      "2. Withdraw Money\n",
      "3. Check Balance\n",
      "4. Print Statement\n",
      "5. Exit\n"
     ]
    },
    {
     "name": "stdin",
     "output_type": "stream",
     "text": [
      "\n",
      "Enter your choice (1-5):  4\n"
     ]
    },
    {
     "name": "stdout",
     "output_type": "stream",
     "text": [
      "\n",
      "Account Statement for Evan\n",
      "Current Balance: $2000.0\n",
      "\n",
      "Transaction History:\n",
      "Deposit: +$1000.0\n",
      "\n",
      "=== Banking Menu ===\n",
      "1. Deposit Money\n",
      "2. Withdraw Money\n",
      "3. Check Balance\n",
      "4. Print Statement\n",
      "5. Exit\n"
     ]
    },
    {
     "name": "stdin",
     "output_type": "stream",
     "text": [
      "\n",
      "Enter your choice (1-5):  5\n"
     ]
    },
    {
     "name": "stdout",
     "output_type": "stream",
     "text": [
      "\n",
      "Thank you for using our banking system!\n"
     ]
    }
   ],
   "source": [
    "from datetime import datetime\n",
    "\n",
    "class BankAccount:\n",
    "    def __init__(self, account_holder, initial_balance=0):\n",
    "        self.account_holder = account_holder\n",
    "        self.balance = initial_balance\n",
    "        self.transaction_history = []\n",
    "        if initial_balance > 0:\n",
    "            self.transaction_history.append(f\"Initial deposit: +${initial_balance}\")\n",
    "\n",
    "    def deposit(self, amount):\n",
    "        try:\n",
    "            amount = float(amount)\n",
    "            if amount <= 0:\n",
    "                raise ValueError(\"입금액은 0보다 커야 합니다.\")\n",
    "            self.balance += amount\n",
    "            self.transaction_history.append(f\"{datetime.now().strftime('%Y-%m-%d %H:%M:%S')} - Deposit: +${amount:.2f}\")\n",
    "            return True\n",
    "        except ValueError as e:\n",
    "            print(f\"오류: {e}\")\n",
    "            return False\n",
    "\n",
    "    def withdraw(self, amount):\n",
    "        try:\n",
    "            amount = float(amount)\n",
    "            if amount <= 0:\n",
    "                raise ValueError(\"출금액은 0보다 커야 합니다.\")\n",
    "            if self.balance < amount:\n",
    "                raise ValueError(\"잔액이 부족합니다.\")\n",
    "            self.balance -= amount\n",
    "            self.transaction_history.append(f\"{datetime.now().strftime('%Y-%m-%d %H:%M:%S')} - Withdrawal: -${amount:.2f}\")\n",
    "            return True\n",
    "        except ValueError as e:\n",
    "            print(f\"오류: {e}\")\n",
    "            return False\n",
    "\n",
    "    def get_balance(self):\n",
    "        return f\"${self.balance:.2f}\"\n",
    "\n",
    "    def print_statement(self):\n",
    "        print(f\"\\nAccount Statement for {self.account_holder}\")\n",
    "        print(f\"Current Balance: {self.get_balance()}\")\n",
    "        print(\"\\nTransaction History:\")\n",
    "        for transaction in self.transaction_history:\n",
    "            print(transaction)\n",
    "\n",
    "\n",
    "def main():\n",
    "    print(\"Welcome to the Banking System!\")\n",
    "    name = input(\"Please enter account holder name: \")\n",
    "    \n",
    "    while True:\n",
    "        try:\n",
    "            initial = float(input(\"Enter initial deposit amount: $\"))\n",
    "            if initial < 0:\n",
    "                raise ValueError(\"Initial deposit cannot be negative\")\n",
    "            break\n",
    "        except ValueError:\n",
    "            print(\"Please enter a valid positive number\")\n",
    "    \n",
    "    account = BankAccount(name, initial)\n",
    "    \n",
    "    while True:\n",
    "        print(\"\\n=== Banking Menu ===\")\n",
    "        print(\"1. Deposit Money\")\n",
    "        print(\"2. Withdraw Money\")\n",
    "        print(\"3. Check Balance\")\n",
    "        print(\"4. Print Statement\")\n",
    "        print(\"5. Exit\")\n",
    "        \n",
    "        choice = input(\"\\nEnter your choice (1-5): \")\n",
    "        \n",
    "        if choice == '1':\n",
    "            amount = input(\"Enter deposit amount: $\")\n",
    "            if account.deposit(amount):\n",
    "                print(\"Deposit successful!\")\n",
    "                \n",
    "        elif choice == '2':\n",
    "            amount = input(\"Enter withdrawal amount: $\")\n",
    "            if account.withdraw(amount):\n",
    "                print(\"Withdrawal successful!\")\n",
    "                \n",
    "        elif choice == '3':\n",
    "            print(f\"\\nCurrent Balance: {account.get_balance()}\")\n",
    "            \n",
    "        elif choice == '4':\n",
    "            account.print_statement()\n",
    "            \n",
    "        elif choice == '5':\n",
    "            print(\"\\nThank you for using our banking system!\")\n",
    "            break\n",
    "            \n",
    "        else:\n",
    "            print(\"Invalid choice! Please try again.\")\n",
    "\n",
    "\n",
    "if __name__ == \"__main__\":\n",
    "    main()\n",
    "\n"
   ]
  },
  {
   "cell_type": "markdown",
   "id": "a2916eb1-3c43-4d56-8e5f-65f37dbedbe0",
   "metadata": {},
   "source": [
    "## 코드 구조 설명"
   ]
  },
  {
   "cell_type": "markdown",
   "id": "4f899a33-74e0-4dd6-8620-3668b33946d7",
   "metadata": {},
   "source": [
    "### __init__ 메서드\n",
    "- 계좌 소유자와 초기 잔액을 매개변수로 받습니다.\n",
    "- account_holder: 계좌 소유자 이름을 저장\n",
    "- balance: 현재 잔액을 저장\n",
    "- transaction_history: 모든 거래 내역을 리스트로 저장\n",
    "- 초기 입금이 있는 경우 거래 내역에 기록"
   ]
  },
  {
   "cell_type": "code",
   "execution_count": 14,
   "id": "bdc3667e-ff35-4cfb-9dea-21127502a106",
   "metadata": {},
   "outputs": [],
   "source": [
    "class BankAccount:\n",
    "    def __init__(self, account_holder, initial_balance=0):\n",
    "        self.account_holder = account_holder\n",
    "        self.balance = initial_balance\n",
    "        self.transaction_history = []\n",
    "        if initial_balance > 0:\n",
    "            self.transaction_history.append(f\"Initial deposit: +${initial_balance}\")"
   ]
  },
  {
   "cell_type": "markdown",
   "id": "7fff3f06-96ec-4917-a59d-fd09525a5222",
   "metadata": {},
   "source": [
    "### 입금 기능\n",
    "- 입금액을 실수(float)로 변환\n",
    "- 입금액이 0보다 큰지 검증\n",
    "- 잔액 업데이트\n",
    "- 거래 시간과 함께 거래 내역 기록\n",
    "- 예외 처리를 통한 안전한 입금 처리"
   ]
  },
  {
   "cell_type": "code",
   "execution_count": 16,
   "id": "acdf2e4b-3ddb-445f-b8f7-a321e2177da7",
   "metadata": {},
   "outputs": [],
   "source": [
    "def deposit(self, amount):\n",
    "    try:\n",
    "        amount = float(amount)\n",
    "        if amount <= 0:\n",
    "            raise ValueError(\"입금액은 0보다 커야 합니다.\")\n",
    "        self.balance += amount\n",
    "        self.transaction_history.append(\n",
    "            f\"{datetime.now().strftime('%Y-%m-%d %H:%M:%S')} - Deposit: +${amount:.2f}\")\n",
    "        return True\n",
    "    except ValueError as e:\n",
    "        print(f\"오류: {e}\")\n",
    "        return False"
   ]
  },
  {
   "cell_type": "markdown",
   "id": "b64d181c-28ed-449f-a018-2c0f54bd1abc",
   "metadata": {},
   "source": [
    "### 출금 기능\n",
    "- 출금액을 실수로 변환\n",
    "- 출금액이 0보다 큰지 검증\n",
    "- 잔액이 충분한지 검증\n",
    "- 잔액 업데이트\n",
    "- 거래 시간과 함께 거래 내역 기록\n",
    "- 예외 처리를 통한 안전한 출금 처리"
   ]
  },
  {
   "cell_type": "code",
   "execution_count": 17,
   "id": "8288b854-1ebf-4a81-84e4-714359c09380",
   "metadata": {},
   "outputs": [],
   "source": [
    "def withdraw(self, amount):\n",
    "    try:\n",
    "        amount = float(amount)\n",
    "        if amount <= 0:\n",
    "            raise ValueError(\"출금액은 0보다 커야 합니다.\")\n",
    "        if self.balance < amount:\n",
    "            raise ValueError(\"잔액이 부족합니다.\")\n",
    "        self.balance -= amount\n",
    "        self.transaction_history.append(\n",
    "            f\"{datetime.now().strftime('%Y-%m-%d %H:%M:%S')} - Withdrawal: -${amount:.2f}\")\n",
    "        return True\n",
    "    except ValueError as e:\n",
    "        print(f\"오류: {e}\")\n",
    "        return False"
   ]
  },
  {
   "cell_type": "markdown",
   "id": "aa62e9c7-c55e-4e1a-8875-099c27a2528a",
   "metadata": {},
   "source": [
    "### 잔액 조회와 거래 내역 출력\n",
    "- get_balance: 현재 잔액을 통화 형식으로 반환\n",
    "- print_statement: 계좌 소유자, 현재 잔액, 전체 거래 내역을 출력"
   ]
  },
  {
   "cell_type": "code",
   "execution_count": 19,
   "id": "2b9eefa4-c90c-4bdf-ab58-7965dd898933",
   "metadata": {},
   "outputs": [],
   "source": [
    "def get_balance(self):\n",
    "    return f\"${self.balance:.2f}\"\n",
    "\n",
    "def print_statement(self):\n",
    "    print(f\"\\nAccount Statement for {self.account_holder}\")\n",
    "    print(f\"Current Balance: {self.get_balance()}\")\n",
    "    print(\"\\nTransaction History:\")\n",
    "    for transaction in self.transaction_history:\n",
    "        print(transaction)"
   ]
  },
  {
   "cell_type": "markdown",
   "id": "39ebc574-2049-4137-a921-100d91b5d452",
   "metadata": {},
   "source": [
    "### 메인 프로그램\n",
    "- 사용자로부터 계좌 소유자 이름과 초기 입금액을 입력받음\n",
    "- 초기 입금액이 올바른 값인지 검증"
   ]
  },
  {
   "cell_type": "code",
   "execution_count": 22,
   "id": "0a82db12-4785-48c3-a70e-4e0cd178507e",
   "metadata": {},
   "outputs": [],
   "source": [
    "def main():\n",
    "    print(\"Welcome to the Banking System!\")\n",
    "    name = input(\"Please enter account holder name: \")\n",
    "    \n",
    "    while True:\n",
    "        try:\n",
    "            initial = float(input(\"Enter initial deposit amount: $\"))\n",
    "            if initial < 0:\n",
    "                raise ValueError(\"Initial deposit cannot be negative\")\n",
    "            break\n",
    "        except ValueError:\n",
    "            print(\"Please enter a valid positive number\")"
   ]
  },
  {
   "cell_type": "markdown",
   "id": "fb080212-8d72-4143-9e4c-abd903d84d2a",
   "metadata": {},
   "source": [
    "### 메뉴 시스템\n",
    "- 사용자가 원하는 작업을 선택할 수 있는 메뉴 제공\n",
    "- 무한 루프를 통해 프로그램 종료 전까지 계속 실행\n",
    "```\n",
    "while True:\n",
    "    print(\"\\n=== Banking Menu ===\")\n",
    "    print(\"1. Deposit Money\")\n",
    "    print(\"2. Withdraw Money\")\n",
    "    print(\"3. Check Balance\")\n",
    "    print(\"4. Print Statement\")\n",
    "    print(\"5. Exit\")\n",
    "    \n",
    "    choice = input(\"\\nEnter your choice (1-5): \")\n",
    "    # ... 메뉴 처리 코드 ...\n",
    "```"
   ]
  },
  {
   "cell_type": "markdown",
   "id": "cc658b2d-2e88-4129-846d-04a2acf8f25b",
   "metadata": {},
   "source": [
    "## 프로그램의 특징\n",
    "- 안전성: 모든 입력에 대해 예외 처리를 통한 검증\n",
    "- 사용자 친화성: 명확한 메뉴와 피드백 제공\n",
    "- 기록 관리: 모든 거래의 시간과 내역을 저장\n",
    "- 데이터 정확성: 금액을 소수점 둘째 자리까지 표시"
   ]
  },
  {
   "cell_type": "code",
   "execution_count": null,
   "id": "ec346d04-2556-4e6f-a6b9-78d09f3dda0a",
   "metadata": {},
   "outputs": [],
   "source": []
  }
 ],
 "metadata": {
  "colab": {
   "provenance": []
  },
  "kernelspec": {
   "display_name": "Python 3 (ipykernel)",
   "language": "python",
   "name": "python3"
  },
  "language_info": {
   "codemirror_mode": {
    "name": "ipython",
    "version": 3
   },
   "file_extension": ".py",
   "mimetype": "text/x-python",
   "name": "python",
   "nbconvert_exporter": "python",
   "pygments_lexer": "ipython3",
   "version": "3.11.5"
  }
 },
 "nbformat": 4,
 "nbformat_minor": 5
}
